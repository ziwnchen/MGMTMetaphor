{
 "cells": [
  {
   "cell_type": "code",
   "execution_count": 27,
   "metadata": {},
   "outputs": [],
   "source": [
    "import pandas as pd\n",
    "import numpy as np\n",
    "import time\n",
    "import pickle\n",
    "from tqdm import tqdm\n",
    "tqdm.pandas()\n",
    "from wikidata.client import Client"
   ]
  },
  {
   "cell_type": "markdown",
   "metadata": {},
   "source": [
    "# ImDB ID search"
   ]
  },
  {
   "cell_type": "code",
   "execution_count": 28,
   "metadata": {},
   "outputs": [],
   "source": [
    "# load author information\n",
    "data_path = \"/zfs/projects/faculty/amirgo-management/opus/processed/\"\n",
    "df_full = pd.read_pickle(data_path+\"total_parsed_df.pkl\")\n",
    "df_meta = df_full[['SubtitleID', 'imdbID', 'Year', 'metadata']].copy()\n",
    "del df_full"
   ]
  },
  {
   "cell_type": "code",
   "execution_count": 29,
   "metadata": {},
   "outputs": [],
   "source": [
    "df_meta['subtitle_date'] = df_meta['metadata'].apply(lambda x: x['subtitle']['date'] if 'date' in x['subtitle'] else None)\n",
    "df_meta['if_machine_translated'] = df_meta['metadata'].apply(lambda x: x['subtitle']['machine_translated'] if 'machine_translated' in x['subtitle'] else None)\n",
    "df_meta['source_date'] = df_meta['metadata'].apply(lambda x: int(x['source']['year']) if 'year' in x['source'] else None)\n",
    "df_meta['subtitle_date'] = df_meta['subtitle_date'].apply(lambda x: int(x.split('-')[0]) if x is not None else None)\n",
    "df_meta['date_gap'] = df_meta['subtitle_date'] - df_meta['source_date']\n",
    "df_meta = df_meta[df_meta['date_gap'] >=-1]"
   ]
  },
  {
   "cell_type": "code",
   "execution_count": 30,
   "metadata": {},
   "outputs": [],
   "source": [
    "imdb_path = \"/zfs/projects/faculty/amirgo-management/imdb/\"\n",
    "imdb_crew = pd.read_csv(imdb_path+\"title.crew.tsv\", sep='\\t')\n",
    "total_ids = imdb_crew['tconst'].unique()\n",
    "df_meta['imdbID_tt'] = df_meta['imdbID'].apply(lambda x: 'tt'+str(x).zfill(7))\n",
    "df_meta['imdb_match'] = df_meta['imdbID_tt'].isin(total_ids)\n",
    "df_meta = df_meta.merge(imdb_crew, left_on='imdbID_tt', right_on='tconst', how='left')\n",
    "df_meta['writers'] = df_meta['writers'].astype(str)\n",
    "df_meta['writers'] = df_meta['writers'].apply(lambda x: x.split(',') if x!=\"\\\\N\" else [])\n",
    "df_meta['directors'] = df_meta['directors'].astype(str)\n",
    "df_meta['directors'] = df_meta['directors'].apply(lambda x: x.split(',') if x!=\"\\\\N\" else [])"
   ]
  },
  {
   "cell_type": "code",
   "execution_count": 49,
   "metadata": {},
   "outputs": [
    {
     "data": {
      "text/plain": [
       "0.9987540973880542"
      ]
     },
     "execution_count": 49,
     "metadata": {},
     "output_type": "execute_result"
    }
   ],
   "source": [
    "1- df_meta[df_meta['imdb_match']==False]['imdbID'].nunique()/df_meta['imdbID'].nunique()"
   ]
  },
  {
   "cell_type": "code",
   "execution_count": 8,
   "metadata": {},
   "outputs": [],
   "source": [
    "df_meta.to_pickle(data_path+\"metadata_df.pkl\")"
   ]
  },
  {
   "cell_type": "markdown",
   "metadata": {},
   "source": [
    "## Query IMDB in wikidata"
   ]
  },
  {
   "cell_type": "code",
   "execution_count": 2,
   "metadata": {},
   "outputs": [],
   "source": [
    "from SPARQLWrapper import SPARQLWrapper, JSON"
   ]
  },
  {
   "cell_type": "code",
   "execution_count": null,
   "metadata": {},
   "outputs": [],
   "source": [
    "# number of unique writers\n",
    "data_path = \"/zfs/projects/faculty/amirgo-management/opus/processed/\"\n",
    "df_meta = pd.read_pickle(data_path+\"metadata_df.pkl\")\n",
    "# df_meta['directors'] = df_meta['directors'].astype(str)\n",
    "# df_meta['directors'] = df_meta['directors'].apply(lambda x: x.split(',') if x!=\"\\\\N\" else [])\n",
    "total_writers = list(df_meta['writers'].explode().unique()) #65666\n",
    "total_directors = list(df_meta['directors'].explode().unique())\n",
    "total_imdb_ids = list(set(total_writers + total_directors))"
   ]
  },
  {
   "cell_type": "code",
   "execution_count": 10,
   "metadata": {},
   "outputs": [
    {
     "name": "stdout",
     "output_type": "stream",
     "text": [
      "Total imdb ids to be queries:  80102\n"
     ]
    }
   ],
   "source": [
    "print(\"Total imdb ids to be queries: \", len(total_imdb_ids))"
   ]
  },
  {
   "cell_type": "code",
   "execution_count": 11,
   "metadata": {},
   "outputs": [],
   "source": [
    "def match_imdb_to_wikidata(imdb_ids):\n",
    "    # Initialize SPARQL endpoint\n",
    "    sparql = SPARQLWrapper(\"https://query.wikidata.org/sparql\")\n",
    "    \n",
    "    # Construct SPARQL query\n",
    "    imdb_values = \" \".join(f'\"{imdb_id}\"' for imdb_id in imdb_ids)\n",
    "    query = f\"\"\"\n",
    "    SELECT ?entity ?entityLabel ?imdb WHERE {{\n",
    "      VALUES ?imdb {{ {imdb_values} }}  # IMDb IDs to match\n",
    "      ?entity wdt:P345 ?imdb.\n",
    "      SERVICE wikibase:label {{ bd:serviceParam wikibase:language \"[AUTO_LANGUAGE],en\". }}\n",
    "    }}\n",
    "    \"\"\"\n",
    "    \n",
    "    # Set query and return format\n",
    "    sparql.setQuery(query)\n",
    "    sparql.setReturnFormat(JSON)\n",
    "    \n",
    "    # Execute query\n",
    "    results = sparql.query().convert()\n",
    "    \n",
    "    # Process results\n",
    "    matches = []\n",
    "    for result in results[\"results\"][\"bindings\"]:\n",
    "        matches.append({\n",
    "            \"imdb_id\": result[\"imdb\"][\"value\"],\n",
    "            \"wikidata_entity\": result[\"entity\"][\"value\"],\n",
    "            \"label\": result.get(\"entityLabel\", {}).get(\"value\", \"Unknown\")\n",
    "        })\n",
    "    \n",
    "    return matches"
   ]
  },
  {
   "cell_type": "code",
   "execution_count": 23,
   "metadata": {},
   "outputs": [
    {
     "name": "stderr",
     "output_type": "stream",
     "text": [
      "Processing IMDb Chunks: 100%|██████████| 802/802 [16:48<00:00,  1.26s/it]\n"
     ]
    }
   ],
   "source": [
    "# Process IMDb IDs in chunks\n",
    "chunk_size = 100\n",
    "all_matches = []\n",
    "chunks = np.array_split(total_imdb_ids, len(total_imdb_ids) // chunk_size + 1)\n",
    "\n",
    "# Process IMDb IDs in chunks with tqdm\n",
    "all_matches = []\n",
    "for chunk in tqdm(chunks, desc=\"Processing IMDb Chunks\"):\n",
    "    matches = match_imdb_to_wikidata(chunk.tolist())  # Convert NumPy array to list\n",
    "    all_matches.extend(matches)\n",
    "    time.sleep(1)  # Sleep for 1 second to avoid hitting the Wikidata API too quickly\n",
    "\n",
    "# Convert to DataFrame\n",
    "df_matches = pd.DataFrame(all_matches)\n",
    "df_matches.to_pickle(data_path+\"imdb_wikidata_person_mapping.pkl\")"
   ]
  },
  {
   "cell_type": "code",
   "execution_count": null,
   "metadata": {},
   "outputs": [],
   "source": [
    "df_matches['wikidata_id'] = df_matches['wikidata_entity'].apply(lambda x: x.split('/')[-1])\n",
    "del df_matches['wikidata_entity']\n",
    "df_matches.to_pickle(data_path+\"imdb_wikidata_person_mapping.pkl\")"
   ]
  },
  {
   "cell_type": "code",
   "execution_count": null,
   "metadata": {},
   "outputs": [
    {
     "name": "stdout",
     "output_type": "stream",
     "text": [
      "Matched writers:  36160 In  65666\n"
     ]
    }
   ],
   "source": [
    "data_path = \"/zfs/projects/faculty/amirgo-management/opus/processed/\"\n",
    "df_matches = pd.read_pickle(data_path+\"imdb_wikidata_person_mapping.pkl\")\n",
    "matched = list(set(df_matches['imdb_id']).intersection(set(total_writers)))\n",
    "print(\"Matched writers: \", len(matched), \"In \", len(total_writers))"
   ]
  },
  {
   "cell_type": "markdown",
   "metadata": {},
   "source": [
    "# Person to be Queryed"
   ]
  },
  {
   "cell_type": "code",
   "execution_count": 3,
   "metadata": {},
   "outputs": [],
   "source": [
    "def property_value_extraction(entity, prop):\n",
    "    claims = entity.data.get('claims', {})\n",
    "    property_claims = claims.get(prop, []) # usually start with p\n",
    "    values = []\n",
    "    for claim in property_claims:\n",
    "        mainsnak = claim.get('mainsnak', {})\n",
    "        datavalue = mainsnak.get('datavalue', {})\n",
    "        value = datavalue.get('value', {}).get('id', None)\n",
    "        if value:\n",
    "            values.append(value)\n",
    "    return values\n",
    "\n",
    "def time_extraction(entity, prop):\n",
    "    claims = entity.data.get('claims', {})\n",
    "    property_claims = claims.get(prop, []) # usually start with p\n",
    "    values = []\n",
    "    for claim in property_claims:\n",
    "        mainsnak = claim.get('mainsnak', {})\n",
    "        datavalue = mainsnak.get('datavalue', {})\n",
    "        value = datavalue.get('value', {}).get('time', None)\n",
    "        if value:\n",
    "            values.append(value)\n",
    "    return values\n",
    "\n",
    "# sometimes, education information is nested\n",
    "def get_education(entity):\n",
    "    # if degree or major is nested in education\n",
    "    institution_values = []\n",
    "    degree_values = []\n",
    "    major_values = []\n",
    "\n",
    "    claims = entity.data.get('claims', {})\n",
    "    education_claims = claims.get('P69', []) # usually start with p\n",
    "    for education in education_claims:\n",
    "        # main entry: institution\n",
    "        mainsnak = education.get('mainsnak', {})\n",
    "        datavalue = mainsnak.get('datavalue', {})\n",
    "        value = datavalue.get('value', {}).get('id', None)\n",
    "        if value:\n",
    "            institution_values.append(value)\n",
    "        # search qualifiers for degree and major, in case they are nested\n",
    "        qualifiers = education.get('qualifiers', {})\n",
    "        if \"P512\" in qualifiers:\n",
    "            degree_id = qualifiers[\"P512\"][0].get('datavalue', {}).get('value', {}).get('id')\n",
    "            degree_values.append(degree_id)\n",
    "        if \"P812\" in qualifiers:\n",
    "            major_id = qualifiers[\"P812\"][0].get('datavalue', {}).get('value', {}).get('id')\n",
    "            major_values.append(major_id)\n",
    "    \n",
    "    # search for degree and major if they are not nested\n",
    "    degree_values += property_value_extraction(entity, 'P512')\n",
    "    major_values += property_value_extraction(entity, 'P812')\n",
    "\n",
    "    # remove duplicates\n",
    "    institution_values = list(set(institution_values))\n",
    "    degree_values = list(set(degree_values))\n",
    "    major_values = list(set(major_values))\n",
    "\n",
    "    return institution_values, degree_values, major_values    \n",
    "\n",
    "def get_SES_characteristics(entity):\n",
    "    # gender\n",
    "    gender_values = property_value_extraction(entity, 'P21')\n",
    "    # birth date\n",
    "    birth_date_values = time_extraction(entity, 'P569')\n",
    "    # death date\n",
    "    death_date_values = time_extraction(entity, 'P570')\n",
    "    # citizenship\n",
    "    citizenship_values = property_value_extraction(entity, 'P27')\n",
    "    # ethinic group\n",
    "    ethinic_group_values = property_value_extraction(entity, 'P172')\n",
    "    # education\n",
    "    education_values, degree_values, major_values = get_education(entity)\n",
    "    # student of (this will be sparse) -- if students of famous economists are included, this will be useful\n",
    "    student_of_values = property_value_extraction(entity, 'P1066')\n",
    "    # occupation\n",
    "    occupation_values = property_value_extraction(entity, 'P106')\n",
    "    # employer in the past\n",
    "    employer_values = property_value_extraction(entity, 'P108')\n",
    "    # political party (this will be sparse)\n",
    "    political_party_values = property_value_extraction(entity, 'P102')\n",
    "    # ideology (this will be sparse)\n",
    "    ideology_values = property_value_extraction(entity, 'P1142')\n",
    "\n",
    "    # dictionary\n",
    "    SES_characteristics = {\"gender\": gender_values, \"birth_date\": birth_date_values, \"death_date\": death_date_values,\n",
    "                            \"citizenship\": citizenship_values, \"ethinic_group\": ethinic_group_values, \"education\": education_values,\n",
    "                            \"degree\": degree_values,\"major\": major_values, \"student_of\": student_of_values, \"occupation\": occupation_values,\n",
    "                            \"employer\": employer_values, \"political_party\": political_party_values, \"ideology\": ideology_values}\n",
    "    return SES_characteristics"
   ]
  },
  {
   "cell_type": "code",
   "execution_count": 4,
   "metadata": {},
   "outputs": [
    {
     "name": "stdout",
     "output_type": "stream",
     "text": [
      "Number of unique people:  44826\n"
     ]
    }
   ],
   "source": [
    "# total entities to be queried\n",
    "data_path = \"/zfs/projects/faculty/amirgo-management/opus/processed/\"\n",
    "df_matches = pd.read_pickle(data_path+\"imdb_wikidata_person_mapping.pkl\")\n",
    "print(\"Number of unique people: \", len(df_matches[\"wikidata_id\"].unique()))\n",
    "total_qids = df_matches[\"wikidata_id\"].unique()"
   ]
  },
  {
   "cell_type": "code",
   "execution_count": null,
   "metadata": {},
   "outputs": [
    {
     "name": "stderr",
     "output_type": "stream",
     "text": [
      "  1%|          | 261/44826 [01:55<5:35:35,  2.21it/s]"
     ]
    },
    {
     "name": "stdout",
     "output_type": "stream",
     "text": [
      "Error:  Q90212\n"
     ]
    }
   ],
   "source": [
    "# for each entity, get SES characteristics\n",
    "client = Client()\n",
    "total_ses_characteristics = []\n",
    "error_qids = []\n",
    "for qid in tqdm(total_qids):\n",
    "    try:\n",
    "        entity = client.get(qid, load=True)\n",
    "        SES_characteristics = get_SES_characteristics(entity)\n",
    "        SES_characteristics[\"qid\"] = qid\n",
    "        total_ses_characteristics.append(SES_characteristics)\n",
    "        # wait for 0.2 second\n",
    "        time.sleep(0.2)\n",
    "    except:\n",
    "        print(\"Error: \", qid)\n",
    "        error_qids.append(qid)\n",
    "        time.sleep(30) # wait for 30 seconds"
   ]
  },
  {
   "cell_type": "code",
   "execution_count": null,
   "metadata": {},
   "outputs": [],
   "source": [
    "# save the SES characteristics\n",
    "ses_df = pd.DataFrame(total_ses_characteristics)\n",
    "ses_df.to_pickle(data_path + \"opus_ses_characteristics.pkl\")"
   ]
  },
  {
   "cell_type": "markdown",
   "metadata": {},
   "source": [
    "# QID to label"
   ]
  },
  {
   "cell_type": "code",
   "execution_count": 11,
   "metadata": {},
   "outputs": [],
   "source": [
    "from SPARQLWrapper import SPARQLWrapper, JSON"
   ]
  },
  {
   "cell_type": "code",
   "execution_count": 17,
   "metadata": {},
   "outputs": [],
   "source": [
    "data_path = \"/zfs/projects/faculty/amirgo-management/opus/processed/\"\n",
    "ses_df = pd.read_pickle(data_path + \"opus_ses_characteristics.pkl\")\n",
    "fiction_ses = pd.read_pickle(\"/zfs/projects/faculty/amirgo-management/HathiTrust/fiction_ses_characteristics.pkl\")\n",
    "congress_ses = pd.read_pickle(\"/zfs/projects/faculty/amirgo-management/congress/congress_ses_characteristics.pkl\")"
   ]
  },
  {
   "cell_type": "code",
   "execution_count": null,
   "metadata": {},
   "outputs": [],
   "source": [
    "list(set(ses_df['education'].sum()))"
   ]
  },
  {
   "cell_type": "code",
   "execution_count": 18,
   "metadata": {},
   "outputs": [],
   "source": [
    "# convert all qids in columns to its corresponding label\n",
    "def all_qids_to_label(ses_df):\n",
    "    gender_qids = list(set(ses_df['gender'].sum()))\n",
    "    citizenship_qids = list(set(ses_df['citizenship'].sum()))\n",
    "    ethinic_group_qids = list(set(ses_df['ethinic_group'].sum()))\n",
    "    education_qids = list(set(ses_df['education'].sum()))\n",
    "    degree_qids = list(set(ses_df['degree'].sum()))\n",
    "    major_qids = list(set(ses_df['major'].sum()))\n",
    "    student_of_qids = list(set(ses_df['student_of'].sum()))\n",
    "    occupation_qids = list(set(ses_df['occupation'].sum()))\n",
    "    employer_qids = list(set(ses_df['employer'].sum()))\n",
    "    political_party_qids = list(set(ses_df['political_party'].sum()))\n",
    "    ideology_qids = list(set(ses_df['ideology'].sum()))\n",
    "\n",
    "    total_qids = gender_qids + citizenship_qids + ethinic_group_qids + education_qids + degree_qids + major_qids + student_of_qids + occupation_qids + employer_qids + political_party_qids + ideology_qids\n",
    "    return total_qids"
   ]
  },
  {
   "cell_type": "code",
   "execution_count": 22,
   "metadata": {},
   "outputs": [],
   "source": [
    "opus_qids = all_qids_to_label(ses_df)\n",
    "fiction_qids = all_qids_to_label(fiction_ses)\n",
    "congress_qids = all_qids_to_label(congress_ses)\n",
    "total_qids = list(set(opus_qids + fiction_qids + congress_qids))"
   ]
  },
  {
   "cell_type": "code",
   "execution_count": 23,
   "metadata": {},
   "outputs": [
    {
     "data": {
      "text/plain": [
       "(12191, 9256, 3858, 16792)"
      ]
     },
     "execution_count": 23,
     "metadata": {},
     "output_type": "execute_result"
    }
   ],
   "source": [
    "len(opus_qids), len(fiction_qids), len(congress_qids), len(total_qids)"
   ]
  },
  {
   "cell_type": "code",
   "execution_count": 25,
   "metadata": {},
   "outputs": [],
   "source": [
    "def fetch_labels(qids):\n",
    "    sparql = SPARQLWrapper(\"https://query.wikidata.org/sparql\")\n",
    "    labels = {}\n",
    "\n",
    "    # Construct SPARQL query for the current batch\n",
    "    qid_filter = \" \".join([f\"wd:{qid}\" for qid in qids])\n",
    "    query = f\"\"\"\n",
    "    SELECT ?item ?itemLabel WHERE {{\n",
    "        VALUES ?item {{ {qid_filter} }}\n",
    "        SERVICE wikibase:label {{ bd:serviceParam wikibase:language \"[AUTO_LANGUAGE],en\". }}\n",
    "    }}\n",
    "    \"\"\"\n",
    "    \n",
    "    sparql.setQuery(query)\n",
    "    sparql.setReturnFormat(JSON)\n",
    "    \n",
    "    try:\n",
    "        # Execute the query\n",
    "        results = sparql.query().convert()\n",
    "        \n",
    "        # Parse results\n",
    "        for result in results[\"results\"][\"bindings\"]:\n",
    "            qid = result[\"item\"][\"value\"].split(\"/\")[-1]  # Extract QID from full URI\n",
    "            label = result[\"itemLabel\"][\"value\"]  # Extract the label\n",
    "            labels[qid] = label\n",
    "    \n",
    "    except Exception as e:\n",
    "        print(f\"Error processing chunk: {chunk}. Error: {e}\")\n",
    "    \n",
    "    return labels"
   ]
  },
  {
   "cell_type": "code",
   "execution_count": 27,
   "metadata": {},
   "outputs": [
    {
     "name": "stderr",
     "output_type": "stream",
     "text": [
      "Processing QID Chunks: 100%|██████████| 168/168 [03:44<00:00,  1.33s/it]\n"
     ]
    }
   ],
   "source": [
    "# Process QIDs in chunks\n",
    "chunk_size = 100\n",
    "all_labels = {}\n",
    "chunks = np.array_split(total_qids, len(total_qids) // chunk_size + 1)\n",
    "\n",
    "for chunk in tqdm(chunks, desc=\"Processing QID Chunks\"):\n",
    "    labels = fetch_labels(chunk.tolist())  # Convert NumPy array to list\n",
    "    all_labels.update(labels)\n",
    "    time.sleep(1)  # Sleep for 1 second to avoid hitting the Wikidata API too quickly"
   ]
  },
  {
   "cell_type": "code",
   "execution_count": 28,
   "metadata": {},
   "outputs": [],
   "source": [
    "# Save label dictionary\n",
    "with open(data_path + \"qid_to_label.pkl\", \"wb\") as f:\n",
    "    pickle.dump(all_labels, f)"
   ]
  },
  {
   "cell_type": "code",
   "execution_count": 40,
   "metadata": {},
   "outputs": [],
   "source": [
    "# apply the label to the SES characteristics\n",
    "data_path = \"/zfs/projects/faculty/amirgo-management/opus/processed/\"\n",
    "ses_df = pd.read_pickle(data_path + \"opus_ses_characteristics.pkl\")\n",
    "qid_to_label_dict = all_labels"
   ]
  },
  {
   "cell_type": "code",
   "execution_count": 41,
   "metadata": {},
   "outputs": [],
   "source": [
    "ses_df['gender'] = ses_df['gender'].apply(lambda x: [qid_to_label_dict[qid] for qid in x if qid!=None])\n",
    "ses_df['citizenship'] = ses_df['citizenship'].apply(lambda x: [qid_to_label_dict[qid] for qid in x if qid!=None])\n",
    "ses_df['ethinic_group'] = ses_df['ethinic_group'].apply(lambda x: [qid_to_label_dict[qid] for qid in x if qid!=None])\n",
    "ses_df['education'] = ses_df['education'].apply(lambda x: [qid_to_label_dict[qid] for qid in x if qid!=None])\n",
    "ses_df['degree'] = ses_df['degree'].apply(lambda x: [qid_to_label_dict[qid] for qid in x if qid!=None])\n",
    "ses_df['major'] = ses_df['major'].apply(lambda x: [qid_to_label_dict[qid] for qid in x if qid!=None])\n",
    "ses_df['student_of'] = ses_df['student_of'].apply(lambda x: [qid_to_label_dict[qid] for qid in x if qid!=None])\n",
    "ses_df['occupation'] = ses_df['occupation'].apply(lambda x: [qid_to_label_dict[qid] for qid in x if qid!=None])\n",
    "ses_df['employer'] = ses_df['employer'].apply(lambda x: [qid_to_label_dict[qid] for qid in x if qid!=None])\n",
    "ses_df['political_party'] = ses_df['political_party'].apply(lambda x: [qid_to_label_dict[qid] for qid in x if qid!=None])\n",
    "ses_df['ideology'] = ses_df['ideology'].apply(lambda x: [qid_to_label_dict[qid] for qid in x if qid!=None])"
   ]
  },
  {
   "cell_type": "code",
   "execution_count": 43,
   "metadata": {},
   "outputs": [],
   "source": [
    "ses_df.to_pickle(data_path + \"opus_ses_characteristics_labelled.pkl\")"
   ]
  },
  {
   "cell_type": "markdown",
   "metadata": {},
   "source": [
    "# Key Indicator Extraction"
   ]
  },
  {
   "cell_type": "markdown",
   "metadata": {},
   "source": [
    "### education class query\n",
    "- for education institution, if the name \"university/college\" is not in the label, run additional query to check if it is a university/college\n",
    "    - instance of \n",
    "    - subclass of university (Q3918), or higher education institution (Q38723)\n",
    "    - part of \n",
    "    - industry : higher education: Q136822\n",
    "    - optional: report times higher education id P5586, P5584\n",
    "- also determine if a school is a business school: Q1143635, or a degree is MBA: Q191701"
   ]
  },
  {
   "cell_type": "code",
   "execution_count": 85,
   "metadata": {},
   "outputs": [],
   "source": [
    "data_path = \"/zfs/projects/faculty/amirgo-management/opus/processed/\"\n",
    "bschools = pd.read_csv(data_path+\"business_schools.csv\")\n",
    "ses_df = pd.read_pickle(data_path + \"opus_ses_characteristics.pkl\")\n",
    "ses_df_labelled = pd.read_pickle(data_path + \"opus_ses_characteristics_labelled.pkl\")\n",
    "bschools['qid'] = bschools['business_school'].apply(lambda x: x.split('/')[-1])"
   ]
  },
  {
   "cell_type": "code",
   "execution_count": 86,
   "metadata": {},
   "outputs": [],
   "source": [
    "# business education\n",
    "# if someone went to business school: if education institution is in the list of business schools; or if degree is business\n",
    "business_degree = set(['Q798129', 'Q12580940','Q191701'])\n",
    "business_schools = set(bschools['qid'].tolist())\n",
    "def if_biz_ed(row):\n",
    "    education = row['education']\n",
    "    degree = row['degree']\n",
    "    if len(education) == 0 and len(degree) == 0:\n",
    "        return \"Missing\"\n",
    "    else:\n",
    "        if_biz = False\n",
    "        for edu in education:\n",
    "            if edu in business_schools:\n",
    "                if_biz = True\n",
    "                break\n",
    "        for deg in degree:\n",
    "            if deg in business_degree:\n",
    "                if_biz = True\n",
    "                break\n",
    "        return str(if_biz)\n",
    "\n",
    "ses_df['if_business_ed'] = ses_df.apply(lambda x: if_biz_ed(x), axis=1)"
   ]
  },
  {
   "cell_type": "code",
   "execution_count": 87,
   "metadata": {},
   "outputs": [],
   "source": [
    "# college education (a corse classification)\n",
    "# if the education institution has 'university' or 'college' in the name;\n",
    "college_degrees = ['bachelor', 'master', 'doctor', 'phd', 'ba', 'ma', 'bs', 'ms', 'mba', 'jd', 'llb', 'llm', 'md']\n",
    "def if_college_ed(row):\n",
    "    education = row['education']\n",
    "    degree = row['degree']\n",
    "    if len(education) == 0 and len(degree) == 0:\n",
    "        return \"Missing\"\n",
    "    else:\n",
    "        if_college = False\n",
    "        for edu in education:\n",
    "            if 'university' in edu.lower() or 'college' in edu.lower():\n",
    "                if_college = True\n",
    "                break\n",
    "        for deg in degree:\n",
    "            deg = deg.lower()\n",
    "            if any(col in deg for col in college_degrees):\n",
    "                if_college = True\n",
    "                break\n",
    "        return str(if_college)\n",
    "\n",
    "ses_df_labelled['if_college_ed'] = ses_df_labelled.apply(lambda x: if_college_ed(x), axis=1)"
   ]
  },
  {
   "cell_type": "code",
   "execution_count": 88,
   "metadata": {},
   "outputs": [],
   "source": [
    "# business occupation\n",
    "occupations = ['businessperson','business executive','entrepreneur', 'businessman', 'business',\n",
    " 'investor', 'executive', 'ceo', 'banker','manager', 'consultant','chief executive officer', 'finance', 'managing', 'executive','investment']\n",
    "\n",
    "def if_bis_occuptation(row):\n",
    "    occupation = row['occupation']\n",
    "    if len(occupation) == 0:\n",
    "        return \"Missing\"\n",
    "    else:\n",
    "        if_bis = False\n",
    "        for occ in occupation:\n",
    "            occ = occ.lower()\n",
    "            for x in occupations:\n",
    "                if x in occ:\n",
    "                    if_bis = True\n",
    "                    break\n",
    "        return str(if_bis)\n",
    "\n",
    "ses_df_labelled['if_business_occupation'] = ses_df_labelled.apply(lambda x: if_bis_occuptation(x), axis=1)"
   ]
  },
  {
   "cell_type": "code",
   "execution_count": 89,
   "metadata": {},
   "outputs": [],
   "source": [
    "ses_df_labelled['if_business_ed']  =ses_df['if_business_ed'] "
   ]
  },
  {
   "cell_type": "code",
   "execution_count": 90,
   "metadata": {},
   "outputs": [],
   "source": [
    "ses_df_labelled.to_pickle(data_path + \"opus_ses_characteristics_labelled.pkl\")"
   ]
  },
  {
   "cell_type": "code",
   "execution_count": 91,
   "metadata": {},
   "outputs": [],
   "source": [
    "# def convert gender to string\n",
    "def convert_gender(ls):\n",
    "    if len(ls) == 0:\n",
    "        return 'Missing'\n",
    "    elif len(ls) == 1:\n",
    "        if ls[0] == 'male' or ls[0] == 'female':\n",
    "            return ls[0]\n",
    "        else:\n",
    "            return \"Other\"\n",
    "    else:\n",
    "        return \"Other\"\n",
    "\n",
    "\n",
    "ses_df_labelled['gender_str'] = ses_df_labelled['gender'].apply(lambda x: convert_gender(x))\n",
    "ses_df_labelled['birth_date'] = ses_df_labelled['birth_date'].apply(lambda x: x[0] if len(x) > 0 else \"Missing\")\n",
    "ses_df_labelled['birth_year'] = ses_df_labelled['birth_date'].apply(lambda x: int(x[1:5]) if x != \"Missing\" else \"Missing\")\n",
    "ses_df_labelled[['qid','birth_year','gender_str','if_college_ed','if_business_occupation','if_business_ed']].to_csv(data_path + \"opus_ses_characteristics_labelled_subset.csv\", index=False)"
   ]
  },
  {
   "cell_type": "code",
   "execution_count": 92,
   "metadata": {},
   "outputs": [
    {
     "data": {
      "text/html": [
       "<div>\n",
       "<style scoped>\n",
       "    .dataframe tbody tr th:only-of-type {\n",
       "        vertical-align: middle;\n",
       "    }\n",
       "\n",
       "    .dataframe tbody tr th {\n",
       "        vertical-align: top;\n",
       "    }\n",
       "\n",
       "    .dataframe thead th {\n",
       "        text-align: right;\n",
       "    }\n",
       "</style>\n",
       "<table border=\"1\" class=\"dataframe\">\n",
       "  <thead>\n",
       "    <tr style=\"text-align: right;\">\n",
       "      <th></th>\n",
       "      <th>qid</th>\n",
       "      <th>birth_year</th>\n",
       "      <th>gender_str</th>\n",
       "      <th>if_college_ed</th>\n",
       "      <th>if_business_occupation</th>\n",
       "      <th>if_business_ed</th>\n",
       "    </tr>\n",
       "  </thead>\n",
       "  <tbody>\n",
       "    <tr>\n",
       "      <th>0</th>\n",
       "      <td>Q1151</td>\n",
       "      <td>1803</td>\n",
       "      <td>male</td>\n",
       "      <td>False</td>\n",
       "      <td>False</td>\n",
       "      <td>False</td>\n",
       "    </tr>\n",
       "    <tr>\n",
       "      <th>1</th>\n",
       "      <td>Q219377</td>\n",
       "      <td>1965</td>\n",
       "      <td>male</td>\n",
       "      <td>True</td>\n",
       "      <td>False</td>\n",
       "      <td>False</td>\n",
       "    </tr>\n",
       "    <tr>\n",
       "      <th>2</th>\n",
       "      <td>Q6175864</td>\n",
       "      <td>1969</td>\n",
       "      <td>male</td>\n",
       "      <td>True</td>\n",
       "      <td>False</td>\n",
       "      <td>False</td>\n",
       "    </tr>\n",
       "    <tr>\n",
       "      <th>3</th>\n",
       "      <td>Q7857085</td>\n",
       "      <td>1976</td>\n",
       "      <td>male</td>\n",
       "      <td>Missing</td>\n",
       "      <td>False</td>\n",
       "      <td>Missing</td>\n",
       "    </tr>\n",
       "    <tr>\n",
       "      <th>4</th>\n",
       "      <td>Q16204332</td>\n",
       "      <td>Missing</td>\n",
       "      <td>female</td>\n",
       "      <td>Missing</td>\n",
       "      <td>False</td>\n",
       "      <td>Missing</td>\n",
       "    </tr>\n",
       "    <tr>\n",
       "      <th>...</th>\n",
       "      <td>...</td>\n",
       "      <td>...</td>\n",
       "      <td>...</td>\n",
       "      <td>...</td>\n",
       "      <td>...</td>\n",
       "      <td>...</td>\n",
       "    </tr>\n",
       "    <tr>\n",
       "      <th>44818</th>\n",
       "      <td>Q117854262</td>\n",
       "      <td>Missing</td>\n",
       "      <td>male</td>\n",
       "      <td>Missing</td>\n",
       "      <td>False</td>\n",
       "      <td>Missing</td>\n",
       "    </tr>\n",
       "    <tr>\n",
       "      <th>44819</th>\n",
       "      <td>Q117860654</td>\n",
       "      <td>Missing</td>\n",
       "      <td>male</td>\n",
       "      <td>Missing</td>\n",
       "      <td>False</td>\n",
       "      <td>Missing</td>\n",
       "    </tr>\n",
       "    <tr>\n",
       "      <th>44820</th>\n",
       "      <td>Q118692478</td>\n",
       "      <td>Missing</td>\n",
       "      <td>male</td>\n",
       "      <td>Missing</td>\n",
       "      <td>False</td>\n",
       "      <td>Missing</td>\n",
       "    </tr>\n",
       "    <tr>\n",
       "      <th>44821</th>\n",
       "      <td>Q77811903</td>\n",
       "      <td>1956</td>\n",
       "      <td>male</td>\n",
       "      <td>Missing</td>\n",
       "      <td>False</td>\n",
       "      <td>Missing</td>\n",
       "    </tr>\n",
       "    <tr>\n",
       "      <th>44822</th>\n",
       "      <td>Q29442232</td>\n",
       "      <td>Missing</td>\n",
       "      <td>female</td>\n",
       "      <td>Missing</td>\n",
       "      <td>False</td>\n",
       "      <td>Missing</td>\n",
       "    </tr>\n",
       "  </tbody>\n",
       "</table>\n",
       "<p>44823 rows × 6 columns</p>\n",
       "</div>"
      ],
      "text/plain": [
       "              qid birth_year gender_str if_college_ed if_business_occupation  \\\n",
       "0           Q1151       1803       male         False                  False   \n",
       "1         Q219377       1965       male          True                  False   \n",
       "2        Q6175864       1969       male          True                  False   \n",
       "3        Q7857085       1976       male       Missing                  False   \n",
       "4       Q16204332    Missing     female       Missing                  False   \n",
       "...           ...        ...        ...           ...                    ...   \n",
       "44818  Q117854262    Missing       male       Missing                  False   \n",
       "44819  Q117860654    Missing       male       Missing                  False   \n",
       "44820  Q118692478    Missing       male       Missing                  False   \n",
       "44821   Q77811903       1956       male       Missing                  False   \n",
       "44822   Q29442232    Missing     female       Missing                  False   \n",
       "\n",
       "      if_business_ed  \n",
       "0              False  \n",
       "1              False  \n",
       "2              False  \n",
       "3            Missing  \n",
       "4            Missing  \n",
       "...              ...  \n",
       "44818        Missing  \n",
       "44819        Missing  \n",
       "44820        Missing  \n",
       "44821        Missing  \n",
       "44822        Missing  \n",
       "\n",
       "[44823 rows x 6 columns]"
      ]
     },
     "execution_count": 92,
     "metadata": {},
     "output_type": "execute_result"
    }
   ],
   "source": [
    "ses_df_labelled[['qid','birth_year','gender_str','if_college_ed','if_business_occupation','if_business_ed']]"
   ]
  },
  {
   "cell_type": "code",
   "execution_count": null,
   "metadata": {},
   "outputs": [],
   "source": [
    "data_path = \"/zfs/projects/faculty/amirgo-management/opus/processed/\"\n",
    "df_meta = pd.read_pickle(data_path+\"metadata_df.pkl\")\n",
    "total_writers = list(df_meta['writers'].explode().unique()) #65666\n",
    "df_matches = pd.read_pickle(data_path+\"imdb_wikidata_person_mapping.pkl\")\n",
    "matched = list(set(df_matches['imdb_id']).intersection(set(total_writers)))\n",
    "matched_qids = list(df_matches[df_matches['imdb_id'].isin(matched)]['wikidata_id'].unique())"
   ]
  },
  {
   "cell_type": "code",
   "execution_count": 93,
   "metadata": {},
   "outputs": [],
   "source": [
    "ses_writer = ses_df_labelled[ses_df_labelled['qid'].isin(matched_qids)]"
   ]
  },
  {
   "cell_type": "code",
   "execution_count": 97,
   "metadata": {},
   "outputs": [
    {
     "data": {
      "text/plain": [
       "np.int64(29754)"
      ]
     },
     "execution_count": 97,
     "metadata": {},
     "output_type": "execute_result"
    }
   ],
   "source": [
    "ses_writer.shape[0] - ses_writer['birth_year'].value_counts()['Missing']"
   ]
  },
  {
   "cell_type": "code",
   "execution_count": 98,
   "metadata": {},
   "outputs": [
    {
     "data": {
      "text/plain": [
       "np.int64(35110)"
      ]
     },
     "execution_count": 98,
     "metadata": {},
     "output_type": "execute_result"
    }
   ],
   "source": [
    "ses_writer.shape[0] - ses_writer['gender_str'].value_counts()['Missing']"
   ]
  },
  {
   "cell_type": "code",
   "execution_count": 100,
   "metadata": {},
   "outputs": [
    {
     "data": {
      "text/plain": [
       "np.int64(14598)"
      ]
     },
     "execution_count": 100,
     "metadata": {},
     "output_type": "execute_result"
    }
   ],
   "source": [
    "ses_writer.shape[0] - ses_writer['if_college_ed'].value_counts()['Missing']"
   ]
  },
  {
   "cell_type": "code",
   "execution_count": 101,
   "metadata": {},
   "outputs": [
    {
     "data": {
      "text/plain": [
       "np.int64(35985)"
      ]
     },
     "execution_count": 101,
     "metadata": {},
     "output_type": "execute_result"
    }
   ],
   "source": [
    "ses_writer.shape[0] - ses_writer['if_business_occupation'].value_counts()['Missing']"
   ]
  },
  {
   "cell_type": "markdown",
   "metadata": {},
   "source": [
    "# Check label distribution"
   ]
  },
  {
   "cell_type": "code",
   "execution_count": 18,
   "metadata": {},
   "outputs": [],
   "source": [
    "from matplotlib import pyplot as plt"
   ]
  },
  {
   "cell_type": "code",
   "execution_count": 16,
   "metadata": {},
   "outputs": [],
   "source": [
    "ses_df_labelled = pd.read_pickle(data_path + \"opus_ses_characteristics_labelled.pkl\")"
   ]
  },
  {
   "cell_type": "code",
   "execution_count": 25,
   "metadata": {},
   "outputs": [],
   "source": [
    "def freq_by_birthyear(col, df):\n",
    "    # drop duplicates\n",
    "    df = df.drop_duplicates(subset=['qid'])\n",
    "    df = df[df['birth_year']>=1900]\n",
    "    freq = df.groupby('birth_year')[col].value_counts().unstack()\n",
    "    freq = freq.div(freq.sum(axis=1), axis=0)\n",
    "    plt.bar(freq.index, freq[True])\n",
    "    plt.xlabel('Year')\n",
    "    plt.ylabel('Proportion')"
   ]
  },
  {
   "cell_type": "code",
   "execution_count": 26,
   "metadata": {},
   "outputs": [
    {
     "data": {
      "image/png": "[encoded data removed]",
      "text/plain": [
       "<Figure size 640x480 with 1 Axes>"
      ]
     },
     "metadata": {},
     "output_type": "display_data"
    }
   ],
   "source": [
    "freq_by_birthyear('if_business_occupation', ses_df_labelled)"
   ]
  },
  {
   "cell_type": "code",
   "execution_count": 27,
   "metadata": {},
   "outputs": [
    {
     "data": {
      "image/png": "[encoded data removed]",
      "text/plain": [
       "<Figure size 640x480 with 1 Axes>"
      ]
     },
     "metadata": {},
     "output_type": "display_data"
    }
   ],
   "source": [
    "freq_by_birthyear('if_business_ed', ses_df_labelled)"
   ]
  },
  {
   "cell_type": "code",
   "execution_count": 28,
   "metadata": {},
   "outputs": [
    {
     "data": {
      "image/png": "[encoded data removed]",
      "text/plain": [
       "<Figure size 640x480 with 1 Axes>"
      ]
     },
     "metadata": {},
     "output_type": "display_data"
    }
   ],
   "source": [
    "freq_by_birthyear('if_college_ed', ses_df_labelled)"
   ]
  },
  {
   "cell_type": "markdown",
   "metadata": {},
   "source": [
    "## implicit with time"
   ]
  },
  {
   "cell_type": "markdown",
   "metadata": {},
   "source": []
  },
  {
   "cell_type": "code",
   "execution_count": null,
   "metadata": {},
   "outputs": [],
   "source": []
  },
  {
   "cell_type": "code",
   "execution_count": null,
   "metadata": {},
   "outputs": [],
   "source": []
  },
  {
   "cell_type": "code",
   "execution_count": null,
   "metadata": {},
   "outputs": [],
   "source": []
  }
 ],
 "metadata": {
  "kernelspec": {
   "display_name": ".venv",
   "language": "python",
   "name": "python3"
  },
  "language_info": {
   "codemirror_mode": {
    "name": "ipython",
    "version": 3
   },
   "file_extension": ".py",
   "mimetype": "text/x-python",
   "name": "python",
   "nbconvert_exporter": "python",
   "pygments_lexer": "ipython3",
   "version": "3.10.12"
  }
 },
 "nbformat": 4,
 "nbformat_minor": 2
}
