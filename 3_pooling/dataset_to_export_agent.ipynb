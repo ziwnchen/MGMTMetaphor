{
 "cells": [
  {
   "cell_type": "markdown",
   "metadata": {},
   "source": [
    "# Dataset to Export\n",
    "- for agent analysis, match the agent to the dataset"
   ]
  },
  {
   "cell_type": "code",
   "execution_count": 1,
   "metadata": {},
   "outputs": [],
   "source": [
    "import os\n",
    "import json\n",
    "import pandas as pd\n",
    "import numpy as np\n",
    "from tqdm import tqdm\n",
    "tqdm.pandas()\n",
    "import hashlib\n",
    "\n",
    "# import custom functions from export_utils.py\n",
    "from export_utils import *"
   ]
  },
  {
   "cell_type": "code",
   "execution_count": 2,
   "metadata": {},
   "outputs": [
    {
     "data": {
      "text/plain": [
       "dict_keys(['subjectivity', 'body', 'relationship', 'relational_subjectivity'])"
      ]
     },
     "execution_count": 2,
     "metadata": {},
     "output_type": "execute_result"
    }
   ],
   "source": [
    "# load category map for object categories\n",
    "with open('/zfs/projects/faculty/amirgo-management/code_review/3_feature_generation/implicit/fillmask_target_objects.json') as f:\n",
    "    category_map = json.load(f)\n",
    "category_map['lemmatized'].keys()"
   ]
  },
  {
   "cell_type": "markdown",
   "metadata": {},
   "source": [
    "# Congress"
   ]
  },
  {
   "cell_type": "code",
   "execution_count": 3,
   "metadata": {},
   "outputs": [
    {
     "name": "stderr",
     "output_type": "stream",
     "text": [
      "100%|██████████| 6469769/6469769 [00:07<00:00, 876167.56it/s] \n"
     ]
    }
   ],
   "source": [
    "# prepare metadata\n",
    "congress_path=\"/zfs/projects/faculty/amirgo-management/congress/\"\n",
    "# load speaker - speech mapping\n",
    "total_speaker_map = pd.read_pickle(congress_path+\"/speeches_processed/total_speaker_map.pkl\") # note that the same speaker can have multiple speaker ids (e.g. if they are in multiple congresses terms)\n",
    "# load wiki data mapping\n",
    "meta_df=pd.read_csv(congress_path + \"congress_meta_data_flat.csv\")\n",
    "total_speaker_map['congress'] = total_speaker_map['speech_id'].progress_apply(speechid_to_congress)\n",
    "total_speaker_map = total_speaker_map.merge(meta_df, on=['firstname','lastname','state','gender','congress'], how='left') # merge in wiki data\n",
    "total_speaker_map.drop_duplicates(subset=['speech_id'],inplace=True)"
   ]
  },
  {
   "cell_type": "code",
   "execution_count": null,
   "metadata": {},
   "outputs": [
    {
     "name": "stdout",
     "output_type": "stream",
     "text": [
      "Shape before matching:  (307863, 6)\n",
      "Shape after matching:  (249849, 23)\n"
     ]
    }
   ],
   "source": [
    "# Explicit\n",
    "## matching\n",
    "data_path=\"/zfs/projects/faculty/amirgo-management/code_review_data/congress/\"\n",
    "explicit_df = pd.read_csv(data_path + \"congress_explicit_trend.csv\")\n",
    "print(\"Shape before matching: \", explicit_df.shape)\n",
    "explicit_matched = explicit_df.merge(total_speaker_map, left_on='doc_id', right_on='speech_id', how='left')\n",
    "explicit_matched.dropna(subset=['speakerid'], inplace=True)\n",
    "print(\"Shape after matching: \", explicit_matched.shape) # about 20% of the data is lost\n",
    "\n",
    "## add new columns: age, decade\n",
    "explicit_matched['birth_year'] = explicit_matched['birthday'].apply(lambda x: int(x.split('-')[0]) if type(x)==str else np.nan)\n",
    "explicit_matched['age'] = explicit_matched.apply(lambda x: generate_age(x['year'], x['birth_year']), axis=1)\n",
    "explicit_matched['decade']= explicit_matched['year'].apply(lambda x: x//10*10)\n",
    "\n",
    "## convert gender to female and male\n",
    "explicit_matched['gender']=explicit_matched['gender'].apply(lambda x: 'female' if x==\"F\" else \"male\") # no missing values\n",
    "\n",
    "## save\n",
    "export_explicit_agent_match(explicit_matched, data_path + \"congress_explicit_agent.csv\")"
   ]
  },
  {
   "cell_type": "code",
   "execution_count": 4,
   "metadata": {},
   "outputs": [
    {
     "name": "stdout",
     "output_type": "stream",
     "text": [
      "Shape before matching:  (4052432, 7)\n",
      "Shape after matching:  (3280718, 24)\n"
     ]
    }
   ],
   "source": [
    "# Implicit\n",
    "## matching\n",
    "data_path=\"/zfs/projects/faculty/amirgo-management/code_review_data/congress/\"\n",
    "implicit_df = pd.read_csv(data_path + \"congress_implicit_trend.csv\")\n",
    "print(\"Shape before matching: \", implicit_df.shape)\n",
    "implicit_matched = implicit_df.merge(total_speaker_map, left_on='doc_id', right_on='speech_id', how='left')\n",
    "implicit_matched.dropna(subset=['speakerid'], inplace=True)\n",
    "print(\"Shape after matching: \", implicit_matched.shape) # about 20% of the data is lost\n",
    "\n",
    "## add new columns: age, object category, decade\n",
    "implicit_matched['birth_year'] = implicit_matched['birthday'].apply(lambda x: int(x.split('-')[0]) if type(x)==str else np.nan)\n",
    "implicit_matched['age'] = implicit_matched.apply(lambda x: generate_age(x['year'], x['birth_year']), axis=1)\n",
    "implicit_matched['decade']= implicit_matched['year'].apply(lambda x: x//10*10)\n",
    "implicit_matched = gen_group_category(implicit_matched, category_map)\n",
    "\n",
    "## convert gender to female and male\n",
    "implicit_matched['gender']=implicit_matched['gender'].apply(lambda x: 'female' if x==\"F\" else \"male\") # no missing values\n",
    "\n",
    "## save\n",
    "export_implicit_agent_match(implicit_matched, data_path + \"congress_implicit_agent.csv\")"
   ]
  },
  {
   "cell_type": "markdown",
   "metadata": {},
   "source": [
    "# Movie"
   ]
  },
  {
   "cell_type": "code",
   "execution_count": 5,
   "metadata": {},
   "outputs": [],
   "source": [
    "# prepare metadata\n",
    "movie_path = \"/zfs/projects/faculty/amirgo-management/opus/processed/\"\n",
    "# indiviual data\n",
    "meta_df = pd.read_csv(movie_path + \"opus_ses_characteristics_labelled_subset.csv\")\n",
    "map_df = pd.read_pickle(movie_path + \"imdb_wikidata_person_mapping.pkl\")\n",
    "map_df = map_df.merge(meta_df, left_on=\"wikidata_id\", right_on=\"qid\", how=\"left\") # merge people's imdb id with their wiki data id\n",
    "\n",
    "# # movie-director mapping\n",
    "imdb_path = \"/zfs/projects/faculty/amirgo-management/imdb/\"\n",
    "imdb_crew = pd.read_csv(imdb_path+\"title.crew.tsv\", sep='\\t')\n",
    "imdb_crew['tconst'] = imdb_crew['tconst'].astype(str)"
   ]
  },
  {
   "cell_type": "code",
   "execution_count": 4,
   "metadata": {},
   "outputs": [
    {
     "name": "stdout",
     "output_type": "stream",
     "text": [
      "Shape before matching:  (28253, 6)\n",
      "Shape after matching:  (56888, 18)\n"
     ]
    }
   ],
   "source": [
    "# Explicit\n",
    "## matching\n",
    "data_path=\"/zfs/projects/faculty/amirgo-management/code_review_data/movie/\"\n",
    "explicit_df = pd.read_csv(data_path + \"movie_explicit_trend.csv\")\n",
    "print(\"Shape before matching: \", explicit_df.shape)\n",
    "explicit_matched = explicit_df.merge(imdb_crew, left_on='doc_id', right_on='tconst', how='left')\n",
    "explicit_matched.dropna(subset=['writers'], inplace=True)\n",
    "explicit_matched['writers'] = explicit_matched['writers'].apply(lambda x: x.split(',')) # if more than one writer\n",
    "explicit_matched = explicit_matched.explode('writers')\n",
    "explicit_matched = explicit_matched.merge(map_df, left_on='writers', right_on='imdb_id', how='left')\n",
    "explicit_matched.dropna(subset=['wikidata_id'], inplace=True)\n",
    "print(\"Shape after matching: \", explicit_matched.shape) # on average, 3 writers per movie\n",
    "\n",
    "## add new columns: age, party, decade\n",
    "explicit_matched['age'] = explicit_matched.apply(lambda x: generate_age(x['year'], x['birth_year']), axis=1)\n",
    "explicit_matched['party']= 'NAN'\n",
    "explicit_matched['decade']= explicit_matched['year'].apply(lambda x: x//10*10)\n",
    "\n",
    "# rename variable\n",
    "explicit_matched.rename(columns={'gender_str':'gender'}, inplace=True)\n",
    "\n",
    "## save\n",
    "export_explicit_agent_match(explicit_matched, data_path + \"movie_explicit_agent.csv\")"
   ]
  },
  {
   "cell_type": "code",
   "execution_count": 6,
   "metadata": {},
   "outputs": [
    {
     "name": "stdout",
     "output_type": "stream",
     "text": [
      "Shape before matching:  (2295968, 7)\n",
      "Shape after matching:  (5078593, 19)\n"
     ]
    }
   ],
   "source": [
    "# Implicit\n",
    "## matching\n",
    "data_path=\"/zfs/projects/faculty/amirgo-management/code_review_data/movie/\"\n",
    "implicit_df = pd.read_csv(data_path + \"movie_implicit_trend.csv\")\n",
    "print(\"Shape before matching: \", implicit_df.shape)\n",
    "implicit_matched = implicit_df.merge(imdb_crew, left_on='doc_id', right_on='tconst', how='left')\n",
    "implicit_matched.dropna(subset=['writers'], inplace=True)\n",
    "implicit_matched['writers'] = implicit_matched['writers'].apply(lambda x: x.split(',')) # if more than one writer\n",
    "implicit_matched = implicit_matched.explode('writers')\n",
    "implicit_matched = implicit_matched.merge(map_df, left_on='writers', right_on='imdb_id', how='left')\n",
    "implicit_matched.dropna(subset=['wikidata_id'], inplace=True)\n",
    "print(\"Shape after matching: \", implicit_matched.shape) # on average, 3 writers per movie\n",
    "\n",
    "## add new columns: age, party, decade, object category\n",
    "implicit_matched['age'] = implicit_matched.apply(lambda x: generate_age(x['year'], x['birth_year']), axis=1)\n",
    "implicit_matched['party']= 'NAN'\n",
    "implicit_matched['decade']= implicit_matched['year'].apply(lambda x: x//10*10)\n",
    "implicit_matched = gen_group_category(implicit_matched, category_map)\n",
    "\n",
    "# rename variable\n",
    "implicit_matched.rename(columns={'gender_str':'gender'}, inplace=True)\n",
    "\n",
    "## save\n",
    "export_implicit_agent_match(implicit_matched, data_path + \"movie_implicit_agent.csv\")"
   ]
  },
  {
   "cell_type": "markdown",
   "metadata": {},
   "source": [
    "# Fiction"
   ]
  },
  {
   "cell_type": "code",
   "execution_count": 7,
   "metadata": {},
   "outputs": [],
   "source": [
    "# fiction\n",
    "fiction_path = \"/zfs/projects/faculty/amirgo-management/HathiTrust/\"\n",
    "ses_df = pd.read_csv(fiction_path + \"fiction_ses_characteristics_labelled_subset.csv\")\n",
    "meta_df = pd.read_csv(fiction_path + \"post45fiction.csv\")\n",
    "\n",
    "meta_df = meta_df.merge(ses_df, left_on=\"author_wikidata_qid\", right_on=\"qid\", how=\"left\")\n",
    "meta_subset = meta_df[['docid','author','author_wikidata_qid', 'title', 'inferreddate', 'latestcomp','birth_year', 'gender_str', 'if_college_ed',\n",
    "       'if_business_occupation', 'if_business_ed']].copy()\n",
    "meta_subset = meta_subset[(meta_subset['latestcomp'] < 2010) & (meta_subset['latestcomp'] >= 1950)]"
   ]
  },
  {
   "cell_type": "code",
   "execution_count": 12,
   "metadata": {},
   "outputs": [
    {
     "name": "stdout",
     "output_type": "stream",
     "text": [
      "Shape before matching:  (367244, 6)\n",
      "Shape after matching:  (216807, 17)\n"
     ]
    }
   ],
   "source": [
    "## Explicit\n",
    "data_path=\"/zfs/projects/faculty/amirgo-management/code_review_data/fiction/\"\n",
    "explicit_df = pd.read_csv(data_path + \"fiction_explicit_trend.csv\")\n",
    "print(\"Shape before matching: \", explicit_df.shape)\n",
    "explicit_df['doc_id'] = explicit_df['doc_id'].apply(lambda x: x[:-4]) # remove .txt\n",
    "explicit_matched = explicit_df.merge(meta_subset, left_on='doc_id', right_on='docid', how='left')\n",
    "explicit_matched.dropna(subset=['author_wikidata_qid'], inplace=True)\n",
    "print(\"Shape after matching: \", explicit_matched.shape)\n",
    "\n",
    "## add new columns: age, party, decade\n",
    "explicit_matched['age'] = explicit_matched.apply(lambda x: generate_age(x['year'], x['birth_year']), axis=1)\n",
    "explicit_matched['party']= 'NAN'\n",
    "explicit_matched['decade']= explicit_matched['year'].apply(lambda x: x//10*10)\n",
    "\n",
    "# rename variable\n",
    "explicit_matched.rename(columns={'gender_str': 'gender','author_wikidata_qid': 'wikidata_id'}, inplace=True)\n",
    "\n",
    "## save\n",
    "export_explicit_agent_match(explicit_matched, data_path + \"fiction_explicit_agent.csv\")"
   ]
  },
  {
   "cell_type": "code",
   "execution_count": 8,
   "metadata": {},
   "outputs": [
    {
     "name": "stdout",
     "output_type": "stream",
     "text": [
      "Shape before matching:  (40101869, 7)\n",
      "Shape after matching:  (23071979, 18)\n"
     ]
    }
   ],
   "source": [
    "## Implicit\n",
    "data_path=\"/zfs/projects/faculty/amirgo-management/code_review_data/fiction/\"\n",
    "implicit_df = pd.read_csv(data_path + \"fiction_implicit_trend.csv\")\n",
    "print(\"Shape before matching: \", implicit_df.shape)\n",
    "implicit_df['doc_id'] = implicit_df['doc_id'].apply(lambda x: x[:-4]) # remove .txt\n",
    "implicit_matched = implicit_df.merge(meta_subset, left_on='doc_id', right_on='docid', how='left')\n",
    "implicit_matched.dropna(subset=['author_wikidata_qid'], inplace=True)\n",
    "print(\"Shape after matching: \", implicit_matched.shape)\n",
    "\n",
    "## add new columns: age, party, decade, object category\n",
    "implicit_matched['age'] = implicit_matched.apply(lambda x: generate_age(x['year'], x['birth_year']), axis=1)\n",
    "implicit_matched['party']= 'NAN'\n",
    "implicit_matched['decade']= implicit_matched['year'].apply(lambda x: x//10*10)\n",
    "implicit_matched = gen_group_category(implicit_matched, category_map)\n",
    "\n",
    "# rename variable\n",
    "implicit_matched.rename(columns={'gender_str': 'gender','author_wikidata_qid': 'wikidata_id'}, inplace=True)\n",
    "\n",
    "## save\n",
    "export_implicit_agent_match(implicit_matched, data_path + \"fiction_implicit_agent.csv\")"
   ]
  },
  {
   "cell_type": "markdown",
   "metadata": {},
   "source": [
    "# Merge"
   ]
  },
  {
   "cell_type": "code",
   "execution_count": 9,
   "metadata": {},
   "outputs": [],
   "source": [
    "data_paths = {\"congress\": \"/zfs/projects/faculty/amirgo-management/code_review_data/congress/\",\n",
    "                \"movie\": \"/zfs/projects/faculty/amirgo-management/code_review_data/movie/\",\n",
    "                \"fiction\": \"/zfs/projects/faculty/amirgo-management/code_review_data/fiction/\"}\n",
    "\n",
    "pooling_path = \"/zfs/projects/faculty/amirgo-management/code_review_data/pooling/\""
   ]
  },
  {
   "cell_type": "code",
   "execution_count": 11,
   "metadata": {},
   "outputs": [
    {
     "name": "stdout",
     "output_type": "stream",
     "text": [
      "Index(['year', 'doc_id', 'sentence_id', 'IsPerson', 'secondaryLabel',\n",
      "       'wikidata_id', 'party', 'birth_year', 'age', 'gender', 'if_college_ed',\n",
      "       'if_business_occupation', 'if_business_ed', 'dataset', 'decade'],\n",
      "      dtype='object')\n"
     ]
    }
   ],
   "source": [
    "explicit_dfs = []\n",
    "for key, path in data_paths.items():\n",
    "    explicit_df = pd.read_csv(path + f\"{key}_explicit_agent.csv\")\n",
    "    explicit_dfs.append(explicit_df)\n",
    "explicit_df = pd.concat(explicit_dfs, ignore_index=True)\n",
    "print(explicit_df.columns)\n",
    "explicit_df.to_csv(pooling_path+\"explicit_agent.csv\",index=False)"
   ]
  },
  {
   "cell_type": "code",
   "execution_count": 12,
   "metadata": {},
   "outputs": [
    {
     "data": {
      "text/plain": [
       "dataset\n",
       "congress    249849\n",
       "fiction     216807\n",
       "movie        56888\n",
       "Name: count, dtype: int64"
      ]
     },
     "execution_count": 12,
     "metadata": {},
     "output_type": "execute_result"
    }
   ],
   "source": [
    "explicit_df['dataset'].value_counts()"
   ]
  },
  {
   "cell_type": "code",
   "execution_count": 10,
   "metadata": {},
   "outputs": [
    {
     "name": "stderr",
     "output_type": "stream",
     "text": [
      "/tmp/ipykernel_420326/3490129293.py:3: DtypeWarning: Columns (8,12) have mixed types. Specify dtype option on import or set low_memory=False.\n",
      "  implicit_df = pd.read_csv(path + f\"{key}_implicit_agent.csv\")\n"
     ]
    },
    {
     "name": "stdout",
     "output_type": "stream",
     "text": [
      "Index(['year', 'doc_id', 'sentence_id', 'object', 'top_subgroup',\n",
      "       'subgroup_orig_syn_ratio', 'wikidata_id', 'party', 'birth_year', 'age',\n",
      "       'gender', 'if_college_ed', 'if_business_occupation', 'if_business_ed',\n",
      "       'dataset', 'decade', 'object_category', 'if_relational_subjectivity'],\n",
      "      dtype='object')\n"
     ]
    }
   ],
   "source": [
    "implicit_dfs = []\n",
    "for key, path in data_paths.items():\n",
    "    implicit_df = pd.read_csv(path + f\"{key}_implicit_agent.csv\")\n",
    "    implicit_dfs.append(implicit_df)\n",
    "implicit_df = pd.concat(implicit_dfs, ignore_index=True)\n",
    "print(implicit_df.columns)\n",
    "implicit_df.to_csv(pooling_path+\"implicit_agent.csv\",index=False)"
   ]
  },
  {
   "cell_type": "code",
   "execution_count": 11,
   "metadata": {},
   "outputs": [
    {
     "data": {
      "text/plain": [
       "dataset\n",
       "fiction     23071979\n",
       "movie        5078593\n",
       "congress     3280718\n",
       "Name: count, dtype: int64"
      ]
     },
     "execution_count": 11,
     "metadata": {},
     "output_type": "execute_result"
    }
   ],
   "source": [
    "implicit_df['dataset'].value_counts()"
   ]
  },
  {
   "cell_type": "code",
   "execution_count": 14,
   "metadata": {},
   "outputs": [
    {
     "data": {
      "text/plain": [
       "dataset\n",
       "fiction     23071979\n",
       "movie        5078593\n",
       "congress     3280718\n",
       "Name: count, dtype: int64"
      ]
     },
     "execution_count": 14,
     "metadata": {},
     "output_type": "execute_result"
    }
   ],
   "source": [
    "implicit_df['dataset'].value_counts()"
   ]
  }
 ],
 "metadata": {
  "kernelspec": {
   "display_name": ".venv",
   "language": "python",
   "name": "python3"
  },
  "language_info": {
   "codemirror_mode": {
    "name": "ipython",
    "version": 3
   },
   "file_extension": ".py",
   "mimetype": "text/x-python",
   "name": "python",
   "nbconvert_exporter": "python",
   "pygments_lexer": "ipython3",
   "version": "3.10.12"
  }
 },
 "nbformat": 4,
 "nbformat_minor": 2
}
