{
 "cells": [
  {
   "cell_type": "markdown",
   "metadata": {},
   "source": [
    "# Dataset to Export\n",
    "- for trend analysis, not matched with agent information"
   ]
  },
  {
   "cell_type": "code",
   "execution_count": 1,
   "metadata": {},
   "outputs": [],
   "source": [
    "import os\n",
    "import json\n",
    "import pandas as pd\n",
    "import numpy as np\n",
    "from tqdm import tqdm\n",
    "tqdm.pandas()\n",
    "import hashlib\n",
    "\n",
    "# import custom functions from export_utils.py\n",
    "from export_utils import *"
   ]
  },
  {
   "cell_type": "markdown",
   "metadata": {},
   "source": [
    "## Load Configs\n",
    "- classification maps for explicit measure"
   ]
  },
  {
   "cell_type": "code",
   "execution_count": 2,
   "metadata": {},
   "outputs": [],
   "source": [
    "# general functions\n",
    "def load_category_map():\n",
    "    with open(\"classification_map.json\",\"r\")as f:\n",
    "        cat_map = json.load(f)\n",
    "    wsd_map = cat_map['wsd']\n",
    "    pb_primary_map = cat_map['pb_primary']\n",
    "    pb_secondary_map = cat_map['pb_secondary']\n",
    "    return wsd_map, pb_primary_map,pb_secondary_map\n",
    "\n",
    "def reverse_dict(dictionary):\n",
    "    return {v: k for k, v in dictionary.items()}\n",
    "\n",
    "wsd_map, pb_primary_map, pb_secondary_map = load_category_map()\n",
    "reverse_secondary_map = reverse_dict(pb_secondary_map)"
   ]
  },
  {
   "cell_type": "code",
   "execution_count": 3,
   "metadata": {},
   "outputs": [],
   "source": [
    "def create_pb_labels(df, reverse_secondary_map=reverse_secondary_map):\n",
    "    df['pb_primary_label']= df.apply(lambda x: gen_true_label(x['pb_primary_predictions'], x['pb_primary_confidences']), axis=1)\n",
    "    df['pb_secondary_label']= df.apply(lambda x: gen_true_label(x['pb_subcategory_predictions'], x['pb_subcategory_confidences']), axis=1)\n",
    "    # given the classification, create a dummy variable for the primary category, and then run logit model\n",
    "    df['IsPerson'] = df.apply(lambda row: 1 if (row['pb_primary_label']==0) and (row['pb_secondary_label'] not in [0,4,999]) else 0, axis=1) # 0: others, 4: household, 999: low confidence or not classified\n",
    "    df['secondaryLabel'] = df['pb_secondary_label'].map(reverse_secondary_map)\n",
    "    return df"
   ]
  },
  {
   "cell_type": "markdown",
   "metadata": {},
   "source": [
    "## Congress"
   ]
  },
  {
   "cell_type": "code",
   "execution_count": 15,
   "metadata": {},
   "outputs": [
    {
     "name": "stderr",
     "output_type": "stream",
     "text": [
      "100%|██████████| 307863/307863 [00:03<00:00, 100894.80it/s]\n"
     ]
    }
   ],
   "source": [
    "## explicit\n",
    "congress_steps = [speechid_to_congress_df_operation, congress_variable_rename, remove_intransitive, create_pb_labels, explicit_sent_hash]\n",
    "process_explicit_data(\n",
    "    data_path=\"/zfs/projects/faculty/amirgo-management/code_review_data/congress/\",\n",
    "    filename=\"congress_mgmt_sent_wsd_pb_classified.csv\",\n",
    "    processing_steps=congress_steps,\n",
    "    export_filename=\"congress_explicit_trend.csv\"\n",
    ")"
   ]
  },
  {
   "cell_type": "code",
   "execution_count": 16,
   "metadata": {},
   "outputs": [
    {
     "name": "stderr",
     "output_type": "stream",
     "text": [
      "100%|██████████| 4052432/4052432 [00:33<00:00, 120702.69it/s]\n"
     ]
    }
   ],
   "source": [
    "## implicit\n",
    "congress_steps = [speechid_to_congress_df_operation, congress_variable_rename, implicit_sent_hash]\n",
    "process_implicit_data(\n",
    "    data_path=\"/zfs/projects/faculty/amirgo-management/code_review_data/congress/\",\n",
    "    filename=\"congress_implicit_measure.pkl\",\n",
    "    processing_steps=congress_steps,\n",
    "    export_filename=\"congress_implicit_trend.csv\"\n",
    ")"
   ]
  },
  {
   "cell_type": "markdown",
   "metadata": {},
   "source": [
    "## Movie"
   ]
  },
  {
   "cell_type": "code",
   "execution_count": 17,
   "metadata": {},
   "outputs": [
    {
     "name": "stderr",
     "output_type": "stream",
     "text": [
      "100%|██████████| 28253/28253 [00:00<00:00, 105998.70it/s]\n"
     ]
    }
   ],
   "source": [
    "## explicit\n",
    "movie_steps = [movie_variable_rename, remove_intransitive, create_pb_labels, explicit_sent_hash]\n",
    "process_explicit_data(\n",
    "    data_path=\"/zfs/projects/faculty/amirgo-management/code_review_data/movie/\",\n",
    "    filename=\"movie_mgmt_sent_wsd_pb_classified.csv\",\n",
    "    processing_steps=movie_steps,\n",
    "    export_filename=\"movie_explicit_trend_v2.csv\"\n",
    ")"
   ]
  },
  {
   "cell_type": "code",
   "execution_count": 32,
   "metadata": {},
   "outputs": [
    {
     "name": "stderr",
     "output_type": "stream",
     "text": [
      "100%|██████████| 2295968/2295968 [00:18<00:00, 122462.84it/s]\n"
     ]
    }
   ],
   "source": [
    "## implicit\n",
    "movie_steps = [movie_variable_rename, implicit_sent_hash]\n",
    "process_implicit_data(\n",
    "    data_path=\"/zfs/projects/faculty/amirgo-management/code_review_data/movie/\",\n",
    "    filename=\"movie_implicit_measure.pkl\",\n",
    "    processing_steps=movie_steps,\n",
    "    export_filename=\"movie_implicit_trend.csv\"\n",
    ")"
   ]
  },
  {
   "cell_type": "markdown",
   "metadata": {},
   "source": [
    "## Caselaw"
   ]
  },
  {
   "cell_type": "code",
   "execution_count": null,
   "metadata": {},
   "outputs": [],
   "source": [
    "caselaw_steps = [caseid_to_year, case_variable_rename, remove_intransitive, create_pb_labels, explicit_sent_hash]\n",
    "process_explicit_data(\n",
    "    data_path=\"/zfs/projects/faculty/amirgo-management/code_review_data/caselaw/total/\",\n",
    "    filename=\"caselaw_mgmt_sent_wsd_pb_classified.csv\",\n",
    "    processing_steps=caselaw_steps,\n",
    "    export_filename=\"caselaw_explicit_trend_v2.csv\"\n",
    ")"
   ]
  },
  {
   "cell_type": "code",
   "execution_count": 16,
   "metadata": {},
   "outputs": [
    {
     "name": "stderr",
     "output_type": "stream",
     "text": [
      "100%|██████████| 4418364/4418364 [00:38<00:00, 114836.17it/s]\n",
      "100%|██████████| 4425640/4425640 [00:36<00:00, 121531.39it/s]\n",
      "100%|██████████| 4439993/4439993 [00:35<00:00, 124179.81it/s]\n",
      "100%|██████████| 4447293/4447293 [00:36<00:00, 122060.81it/s]\n",
      "100%|██████████| 4381942/4381942 [00:37<00:00, 118178.78it/s]\n",
      "100%|██████████| 4406786/4406786 [00:35<00:00, 123995.39it/s]\n"
     ]
    }
   ],
   "source": [
    "# multiple parts of implicit files \n",
    "files = [f\"caselaw_implicit_measure_p{i}.pkl\" for i in range(1, 7)]\n",
    "caselaw_steps = [caseid_to_year, case_variable_rename, implicit_sent_hash]\n",
    "for i, file in enumerate(files):\n",
    "    process_implicit_data(\n",
    "        data_path=\"/zfs/projects/faculty/amirgo-management/code_review_data/caselaw/total/\",\n",
    "        filename=file,\n",
    "        processing_steps=caselaw_steps,\n",
    "        export_filename=f\"caselaw_implicit_trend_p{i+1}.csv\"\n",
    "    )"
   ]
  },
  {
   "cell_type": "code",
   "execution_count": null,
   "metadata": {},
   "outputs": [],
   "source": [
    "# merge all parts of implicit files\n",
    "caselaw_implicit = pd.concat([pd.read_csv(f\"/zfs/projects/faculty/amirgo-management/code_review_data/caselaw/total/caselaw_implicit_trend_p{i}.csv\") for i in range(1,7)], ignore_index=True)\n",
    "caselaw_implicit.to_csv(\"/zfs/projects/faculty/amirgo-management/code_review_data/caselaw/total/caselaw_implicit_trend.csv\", index=False)"
   ]
  },
  {
   "cell_type": "markdown",
   "metadata": {},
   "source": [
    "## NYT"
   ]
  },
  {
   "cell_type": "code",
   "execution_count": 17,
   "metadata": {},
   "outputs": [],
   "source": [
    "def create_pb_labels_nyt(df, reverse_secondary_map=reverse_secondary_map):\n",
    "    df['IsPerson'] = df.apply(lambda row: 1 if (row['pb_primary_label']==0) and (row['pb_secondary_label'] not in [0,4,999]) else 0, axis=1) # 0: others, 4: household, 999: low confidence or not classified\n",
    "    df['secondaryLabel'] = df['pb_secondary_label'].map(reverse_secondary_map)\n",
    "    return df"
   ]
  },
  {
   "cell_type": "code",
   "execution_count": 24,
   "metadata": {},
   "outputs": [
    {
     "name": "stderr",
     "output_type": "stream",
     "text": [
      "100%|██████████| 4142211/4142211 [00:29<00:00, 140507.84it/s]\n"
     ]
    }
   ],
   "source": [
    "path = \"/zfs/projects/faculty/amirgo-management/code_review_data/nyt/\"\n",
    "explicit_df = pd.read_parquet(path + \"explicit_measure_full.parquet.gzip\", engine='pyarrow')\n",
    "explicit_df = nyt_variable_rename(explicit_df)\n",
    "explicit_df = create_pb_labels_nyt(explicit_df)\n",
    "explicit_df = idx_sent_hash(explicit_df)\n",
    "export_explicit_df(explicit_df, path + \"nyt_explicit_trend.csv\")"
   ]
  },
  {
   "cell_type": "code",
   "execution_count": 28,
   "metadata": {},
   "outputs": [
    {
     "name": "stderr",
     "output_type": "stream",
     "text": [
      "100%|██████████| 29023124/29023124 [03:28<00:00, 138906.31it/s]\n"
     ]
    }
   ],
   "source": [
    "implicit_df = pd.read_parquet(path + \"1831_implicit_measure_full.parquet.gzip\", engine='pyarrow')\n",
    "implicit_df.reset_index(drop=True,inplace=True)\n",
    "implicit_df = nyt_variable_rename(implicit_df)\n",
    "implicit_df = idx_sent_hash(implicit_df)\n",
    "export_implicit_df(implicit_df, path + \"nyt_implicit_trend.csv\")"
   ]
  },
  {
   "cell_type": "markdown",
   "metadata": {},
   "source": [
    "## Fiction"
   ]
  },
  {
   "cell_type": "code",
   "execution_count": null,
   "metadata": {},
   "outputs": [],
   "source": [
    "path = \"/zfs/projects/faculty/amirgo-management/code_review_data/fiction/\"\n",
    "meta_df = pd.read_csv(\"/zfs/projects/faculty/amirgo-management/HathiTrust/post45fiction.csv\")\n",
    "filename_to_year_dict = meta_df.set_index('docid')['latestcomp'].to_dict()\n",
    "\n",
    "def filename_to_year(df):\n",
    "    df['year'] = df['filename'].apply(lambda x: filename_to_year_dict.get(x[:-4], np.nan))\n",
    "    return df"
   ]
  },
  {
   "cell_type": "code",
   "execution_count": 8,
   "metadata": {},
   "outputs": [
    {
     "name": "stdout",
     "output_type": "stream",
     "text": [
      "Dataset before processing: 965333 rows, 12 columns.\n",
      "Dataset after processing: 367244 rows, 18 columns.\n"
     ]
    }
   ],
   "source": [
    "fiction_steps = [filename_to_year, fiction_variable_rename, remove_intransitive, create_pb_labels]\n",
    "process_explicit_data(\n",
    "    data_path=\"/zfs/projects/faculty/amirgo-management/code_review_data/fiction/\",\n",
    "    filename=\"fiction_explicit_export.csv\",\n",
    "    processing_steps=fiction_steps,\n",
    "    export_filename=\"fiction_explicit_trend.csv\"\n",
    ")"
   ]
  },
  {
   "cell_type": "code",
   "execution_count": 19,
   "metadata": {},
   "outputs": [
    {
     "name": "stderr",
     "output_type": "stream",
     "text": [
      "100%|██████████| 40101869/40101869 [04:47<00:00, 139625.62it/s]\n"
     ]
    }
   ],
   "source": [
    "implicit_df = pd.read_csv(\"/zfs/projects/faculty/amirgo-management/code_review_data/fiction/fiction_implicit_export_nohash.csv\")\n",
    "implicit_df = filename_to_year(implicit_df)\n",
    "implicit_df = fiction_variable_rename(implicit_df)\n",
    "implicit_df = idx_sent_hash(implicit_df)\n",
    "export_implicit_df(implicit_df, \"/zfs/projects/faculty/amirgo-management/code_review_data/fiction/fiction_implicit_trend.csv\")"
   ]
  },
  {
   "cell_type": "markdown",
   "metadata": {},
   "source": [
    "## Merge"
   ]
  },
  {
   "cell_type": "code",
   "execution_count": 2,
   "metadata": {},
   "outputs": [],
   "source": [
    "data_paths = {\"congress\": \"/zfs/projects/faculty/amirgo-management/code_review_data/congress/\",\n",
    "                \"movie\": \"/zfs/projects/faculty/amirgo-management/code_review_data/movie/\",\n",
    "                \"caselaw\": \"/zfs/projects/faculty/amirgo-management/code_review_data/caselaw/total/\",\n",
    "                \"nyt\": \"/zfs/projects/faculty/amirgo-management/code_review_data/nyt/\",\n",
    "                \"fiction\": \"/zfs/projects/faculty/amirgo-management/code_review_data/fiction/\"}\n",
    "\n",
    "pooling_path = \"/zfs/projects/faculty/amirgo-management/code_review_data/pooling/\""
   ]
  },
  {
   "cell_type": "code",
   "execution_count": 5,
   "metadata": {},
   "outputs": [
    {
     "name": "stdout",
     "output_type": "stream",
     "text": [
      "Index(['year', 'dataset', 'doc_id', 'sentence_id', 'IsPerson',\n",
      "       'secondaryLabel', 'decade'],\n",
      "      dtype='object')\n"
     ]
    }
   ],
   "source": [
    "explicit_dfs = []\n",
    "for key, path in data_paths.items():\n",
    "    explicit_df = pd.read_csv(path + f\"{key}_explicit_trend.csv\")\n",
    "    explicit_dfs.append(explicit_df)\n",
    "explicit_df = pd.concat(explicit_dfs, ignore_index=True)\n",
    "explicit_df['decade'] = explicit_df['year'].apply(lambda x: x//10*10)\n",
    "print(explicit_df.columns)\n",
    "explicit_df.to_csv(pooling_path+\"explicit_trend.csv\",index=False)"
   ]
  },
  {
   "cell_type": "code",
   "execution_count": 7,
   "metadata": {},
   "outputs": [
    {
     "data": {
      "text/plain": [
       "dataset\n",
       "nyt         4142211\n",
       "caselaw     1552525\n",
       "fiction      367244\n",
       "congress     307863\n",
       "movie         28253\n",
       "Name: count, dtype: int64"
      ]
     },
     "execution_count": 7,
     "metadata": {},
     "output_type": "execute_result"
    }
   ],
   "source": [
    "explicit_df['dataset'].value_counts()"
   ]
  },
  {
   "cell_type": "code",
   "execution_count": 3,
   "metadata": {},
   "outputs": [
    {
     "name": "stdout",
     "output_type": "stream",
     "text": [
      "Index(['year', 'dataset', 'doc_id', 'sentence_id', 'object',\n",
      "       'subgroup_orig_syn_ratio', 'top_subgroup', 'decade'],\n",
      "      dtype='object')\n"
     ]
    }
   ],
   "source": [
    "implicit_dfs = []\n",
    "for key, path in data_paths.items():\n",
    "    implicit_df = pd.read_csv(path + f\"{key}_implicit_trend.csv\")\n",
    "    implicit_dfs.append(implicit_df)\n",
    "implicit_df = pd.concat(implicit_dfs, ignore_index=True)\n",
    "implicit_df['decade'] = implicit_df['year'].apply(lambda x: x//10*10)\n",
    "print(implicit_df.columns)\n",
    "implicit_df.to_csv(pooling_path+\"implicit_trend.csv\",index=False)"
   ]
  },
  {
   "cell_type": "code",
   "execution_count": 4,
   "metadata": {},
   "outputs": [
    {
     "data": {
      "text/plain": [
       "dataset\n",
       "fiction     40101869\n",
       "nyt         29023124\n",
       "caselaw     26520018\n",
       "congress     4052432\n",
       "movie        2295968\n",
       "Name: count, dtype: int64"
      ]
     },
     "execution_count": 4,
     "metadata": {},
     "output_type": "execute_result"
    }
   ],
   "source": [
    "implicit_df['dataset'].value_counts()"
   ]
  }
 ],
 "metadata": {
  "kernelspec": {
   "display_name": ".venv",
   "language": "python",
   "name": "python3"
  },
  "language_info": {
   "codemirror_mode": {
    "name": "ipython",
    "version": 3
   },
   "file_extension": ".py",
   "mimetype": "text/x-python",
   "name": "python",
   "nbconvert_exporter": "python",
   "pygments_lexer": "ipython3",
   "version": "3.10.12"
  }
 },
 "nbformat": 4,
 "nbformat_minor": 2
}
