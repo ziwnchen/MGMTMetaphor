{
 "cells": [
  {
   "cell_type": "code",
   "execution_count": 10,
   "id": "a41a3997-9572-4f07-8596-2a9559a777f0",
   "metadata": {},
   "outputs": [],
   "source": [
    "from openai import OpenAI\n",
    "import os\n",
    "from pydantic import BaseModel\n",
    "import tiktoken\n",
    "import instructor\n",
    "from instructor.batch import BatchJob"
   ]
  },
  {
   "cell_type": "code",
   "execution_count": 12,
   "id": "262388dc",
   "metadata": {},
   "outputs": [],
   "source": [
    "import json\n",
    "import pandas as pd"
   ]
  },
  {
   "cell_type": "code",
   "execution_count": 4,
   "id": "ccc38fcf",
   "metadata": {},
   "outputs": [],
   "source": [
    "client = OpenAI(\n",
    "    # This is the default and can be omitted\n",
    "    api_key=os.environ.get(\"OPENAI_API_KEY\"),\n",
    ")"
   ]
  },
  {
   "cell_type": "markdown",
   "id": "b6a4f723",
   "metadata": {},
   "source": [
    "# Prompt Formation"
   ]
  },
  {
   "cell_type": "code",
   "execution_count": 3,
   "id": "9eca1726",
   "metadata": {},
   "outputs": [],
   "source": [
    "system_prompt = \"\"\"\n",
    "The following sentence contains a management-related word highlighted using [TGT]. This word can be any part of speech (noun, verb, adjective, etc.), such as “manage,” “manager,” “managing,” etc. Please answer the following question based on the context of the sentence:\n",
    "\n",
    "Question1: What is the context of the management-related word?:\n",
    "- Business and Professional: for example, work, job, industry etc.\n",
    "- Personal: for example, self, personal life, personal relationship etc.\n",
    "- Others: Any context not fitting into the above categories.\n",
    "\n",
    "Question2: Categorize the object being managed into one of the following categories:\n",
    "- Emotion and subjective experiences:  feelings like happiness, stress, expectations, etc.\n",
    "- Human body: physical aspects like health, fitness, etc.\n",
    "- Time: for example, scheduling, deadlines, etc.\n",
    "- Family: relationships with family members like parents, siblings, children, spouse, etc.\n",
    "- Friendship: relationships with friends\n",
    "- Romantic relationships: for example, love, dating, intimacy, etc\n",
    "- Household: for example, home, groceries, backyard, etc\n",
    "- Financials: for example, money, savings, wealth, etc\n",
    "- Business Operations: for example, sales, marketing, production, employee, etc\n",
    "- Others: Any object not fitting into the above categories.\n",
    "\n",
    "Instructions:\n",
    "- Focus only on the management-related word highlighted using [TGT] in the sentence.\n",
    "- Only identify instances that strictly fall under the identified categories. Label all other instances as \"Others\".\n",
    "- If the highlighted word is intransitive (e.g., “manage .. to do”), assume the context and object being managed are \"Others\".\n",
    "\n",
    "Example:\n",
    "- Sentence: The manager cannot [TGT] manage [TGT] his children when they misbehave.\n",
    "- Answer: Question1: Personal; Question2: Family\n",
    "- Sentence: The [TGT] manager [TGT] cannot manage his children when they misbehave.\n",
    "- Answer: Question1: Business and Professional; Question2: Business Operations\n",
    "- Sentence: I [TGT] manage [TGT] to write him a letter.\n",
    "- Answer: Question1: Others; Question2: Others\n",
    "\"\"\""
   ]
  },
  {
   "cell_type": "code",
   "execution_count": 4,
   "id": "459d1fe6",
   "metadata": {},
   "outputs": [],
   "source": [
    "class Category(BaseModel):\n",
    "    Question1: str\n",
    "    Question2: str"
   ]
  },
  {
   "cell_type": "code",
   "execution_count": 5,
   "id": "345bd0b7",
   "metadata": {},
   "outputs": [],
   "source": [
    "def send_message(sentence):\n",
    "    try:\n",
    "        completion = client.beta.chat.completions.parse(\n",
    "            model=\"gpt-4o-2024-08-06\",\n",
    "            messages=[\n",
    "                {\"role\": \"system\", \"content\": system_prompt},\n",
    "                {\"role\": \"user\", \"content\": sentence},\n",
    "            ],\n",
    "            response_format=Category,\n",
    "            max_tokens=100,\n",
    "        )\n",
    "        sentence_category = completion.choices[0].message\n",
    "        if sentence_category.parsed:\n",
    "            return sentence_category.parsed\n",
    "        elif sentence_category.refusal:\n",
    "            # handle refusal\n",
    "            return sentence_category.refusal\n",
    "    except Exception as e:\n",
    "        # Handle edge cases\n",
    "        if type(e) == openai.LengthFinishReasonError:\n",
    "            # Retry with a higher max tokens\n",
    "            print(\"Too many tokens: \", e)\n",
    "            pass\n",
    "        else:\n",
    "            # Handle other exceptions\n",
    "            print(e)\n",
    "            pass"
   ]
  },
  {
   "cell_type": "code",
   "execution_count": 18,
   "id": "b3adb1f0",
   "metadata": {},
   "outputs": [
    {
     "data": {
      "text/plain": [
       "Category(Question1='Business and Professional', Question2='Business Operations')"
      ]
     },
     "execution_count": 18,
     "metadata": {},
     "output_type": "execute_result"
    }
   ],
   "source": [
    "# individual test\n",
    "test_sentence = \"She is the [TGT] managing [TGT] editor of the magazine.\"\n",
    "send_message(test_sentence)"
   ]
  },
  {
   "cell_type": "markdown",
   "id": "8558cf5c-9334-4b76-9962-1788de8de987",
   "metadata": {},
   "source": [
    "# Batch Inference\n",
    "given that it is very cheap to process a large number of sentences, we decide to go for the entire dataset of COHA"
   ]
  },
  {
   "cell_type": "code",
   "execution_count": 20,
   "id": "08e2bedf",
   "metadata": {},
   "outputs": [],
   "source": [
    "# token estimates: copy from openai cookbook\n",
    "def num_tokens_from_messages(messages, model=\"gpt-4o-2024-08-06\"):\n",
    "    \"\"\"Return the number of tokens used by a list of messages.\"\"\"\n",
    "    try:\n",
    "        encoding = tiktoken.encoding_for_model(model)\n",
    "    except KeyError:\n",
    "        print(\"Warning: model not found. Using o200k_base encoding.\")\n",
    "        encoding = tiktoken.get_encoding(\"o200k_base\")\n",
    "    if model in {\n",
    "        \"gpt-3.5-turbo-0125\",\n",
    "        \"gpt-4-0314\",\n",
    "        \"gpt-4-32k-0314\",\n",
    "        \"gpt-4-0613\",\n",
    "        \"gpt-4-32k-0613\",\n",
    "        \"gpt-4o-mini-2024-07-18\",\n",
    "        \"gpt-4o-2024-08-06\"\n",
    "        }:\n",
    "        tokens_per_message = 3\n",
    "        tokens_per_name = 1\n",
    "    elif \"gpt-3.5-turbo\" in model:\n",
    "        print(\"Warning: gpt-3.5-turbo may update over time. Returning num tokens assuming gpt-3.5-turbo-0125.\")\n",
    "        return num_tokens_from_messages(messages, model=\"gpt-3.5-turbo-0125\")\n",
    "    elif \"gpt-4o-mini\" in model:\n",
    "        print(\"Warning: gpt-4o-mini may update over time. Returning num tokens assuming gpt-4o-mini-2024-07-18.\")\n",
    "        return num_tokens_from_messages(messages, model=\"gpt-4o-mini-2024-07-18\")\n",
    "    elif \"gpt-4o\" in model:\n",
    "        print(\"Warning: gpt-4o and gpt-4o-mini may update over time. Returning num tokens assuming gpt-4o-2024-08-06.\")\n",
    "        return num_tokens_from_messages(messages, model=\"gpt-4o-2024-08-06\")\n",
    "    elif \"gpt-4\" in model:\n",
    "        print(\"Warning: gpt-4 may update over time. Returning num tokens assuming gpt-4-0613.\")\n",
    "        return num_tokens_from_messages(messages, model=\"gpt-4-0613\")\n",
    "    else:\n",
    "        raise NotImplementedError(\n",
    "            f\"\"\"num_tokens_from_messages() is not implemented for model {model}.\"\"\"\n",
    "        )\n",
    "    num_tokens = 0\n",
    "    for message in messages:\n",
    "        num_tokens += tokens_per_message\n",
    "        for key, value in message.items():\n",
    "            num_tokens += len(encoding.encode(value))\n",
    "            if key == \"name\":\n",
    "                num_tokens += tokens_per_name\n",
    "    num_tokens += 3  # every reply is primed with <|start|>assistant<|message|>\n",
    "    return num_tokens\n",
    "\n",
    "def calculate_price(num_token):\n",
    "    return num_token*2.5/1000000"
   ]
  },
  {
   "cell_type": "code",
   "execution_count": 21,
   "id": "63f43c9a",
   "metadata": {},
   "outputs": [
    {
     "data": {
      "text/plain": [
       "0.00121"
      ]
     },
     "execution_count": 21,
     "metadata": {},
     "output_type": "execute_result"
    }
   ],
   "source": [
    "test_sentence = 'She is a good [TGT] manager [TGT] of the land that she inherited from her father.'\n",
    "test_messages = [{\"role\": \"system\", \"content\": system_prompt},\n",
    "                {\"role\": \"user\", \"content\": test_sentence}]\n",
    "num_tokens_from_messages(test_messages)\n",
    "calculate_price(num_tokens_from_messages(test_messages))"
   ]
  },
  {
   "cell_type": "markdown",
   "id": "85d0475d",
   "metadata": {},
   "source": [
    "## load data"
   ]
  },
  {
   "cell_type": "code",
   "execution_count": 22,
   "id": "3d15d5c5",
   "metadata": {},
   "outputs": [],
   "source": [
    "import pandas as pd\n",
    "import nltk\n",
    "from nltk.tokenize import word_tokenize"
   ]
  },
  {
   "cell_type": "code",
   "execution_count": 23,
   "id": "98afadb0",
   "metadata": {},
   "outputs": [],
   "source": [
    "# load df\n",
    "data_path = '/zfs/projects/faculty/amirgo-management/COHA_data/processed_data/'\n",
    "df=pd.read_pickle(data_path+'coha_mgmt_sent_wsd_tagged.pkl')\n",
    "\n",
    "# remove cases when WSD label with 0 and with confidence >0.95\n",
    "# absolute intransitive cases\n",
    "# df = df[~((df['WSD_pred']==0) & (df['WSD_conf']>0.95))]"
   ]
  },
  {
   "cell_type": "code",
   "execution_count": 24,
   "id": "66537f34",
   "metadata": {},
   "outputs": [],
   "source": [
    "# add [TGT] label to focal word\n",
    "def if_is_instrasitive(sentence, mgmt_tag):\n",
    "    words = word_tokenize(sentence)\n",
    "    target_idx = mgmt_tag[0]\n",
    "    target_word = mgmt_tag[1]\n",
    "    target_pos = mgmt_tag[2]\n",
    "    if \"VB\" in target_pos:\n",
    "        if words[target_idx+1] == \"to\":\n",
    "            return True\n",
    "    return False\n",
    "\n",
    "def add_tgt_label(sentence, mgmt_tag):\n",
    "    tagged_sentence = \"\"\n",
    "    words = word_tokenize(sentence)\n",
    "    target_idx = mgmt_tag[0]\n",
    "    target_word = mgmt_tag[1]\n",
    "    for i, word in enumerate(words):\n",
    "        if i == target_idx and word == target_word:\n",
    "            words[i] = '[TGT] ' + word + ' [TGT]'\n",
    "        tagged_sentence += words[i] + \" \"\n",
    "    return tagged_sentence\n",
    "\n",
    "df['tgt_tagged'] = df.apply(lambda x: add_tgt_label(x['mgmt_sents'], x['mgmt_tag']), axis=1)\n",
    "df['is_intransitive'] = df.apply(lambda x: if_is_instrasitive(x['mgmt_sents'], x['mgmt_tag']), axis=1) # sample is very small, keep it for training purpose"
   ]
  },
  {
   "cell_type": "code",
   "execution_count": 26,
   "id": "a868b101",
   "metadata": {},
   "outputs": [
    {
     "data": {
      "text/plain": [
       "(37885, 11)"
      ]
     },
     "execution_count": 26,
     "metadata": {},
     "output_type": "execute_result"
    }
   ],
   "source": [
    "df = df[df['is_intransitive']==False]\n",
    "df.reset_index(drop=True, inplace=True)\n",
    "df.shape"
   ]
  },
  {
   "cell_type": "markdown",
   "id": "968c9442",
   "metadata": {},
   "source": [
    "## batch formatting"
   ]
  },
  {
   "cell_type": "code",
   "execution_count": 27,
   "id": "67607471",
   "metadata": {},
   "outputs": [
    {
     "name": "stdout",
     "output_type": "stream",
     "text": [
      "Total tokens:  19187776\n",
      "Total cost:  47.96944\n"
     ]
    }
   ],
   "source": [
    "# estimation of cost\n",
    "def format_message(sent):\n",
    "    return [{\"role\": \"system\", \"content\": system_prompt},\n",
    "            {\"role\": \"user\", \"content\": sent}]\n",
    "msg_ls = []\n",
    "for sent in df['tgt_tagged']:\n",
    "    msg_ls.append(format_message(sent))\n",
    "\n",
    "total_tokens = 0\n",
    "for msg in msg_ls:\n",
    "    total_tokens += num_tokens_from_messages(msg)\n",
    "print(\"Total tokens: \", total_tokens)\n",
    "print(\"Total cost: \", calculate_price(total_tokens))"
   ]
  },
  {
   "cell_type": "code",
   "execution_count": 8,
   "id": "146a7b3b",
   "metadata": {},
   "outputs": [],
   "source": [
    "# use function from instructor package\n",
    "class Category(BaseModel):\n",
    "    Question1: str\n",
    "    Question2: str\n",
    "\n",
    "def get_messages(df):  \n",
    "    for index, row in df.iterrows():\n",
    "        sentence = row['tgt_tagged']\n",
    "        yield [\n",
    "            {\n",
    "                \"role\": \"system\",\n",
    "                \"content\": system_prompt,\n",
    "            },\n",
    "            {\"role\": \"user\", \"content\": sentence},\n",
    "        ]"
   ]
  },
  {
   "cell_type": "code",
   "execution_count": 29,
   "id": "83295cfd",
   "metadata": {},
   "outputs": [],
   "source": [
    "BatchJob.create_from_messages(\n",
    "    messages_batch=get_messages(df),\n",
    "    model=\"gpt-4o-2024-08-06\",\n",
    "    file_path=data_path+\"full_coha_oct30.jsonl\",\n",
    "    response_model=Category,\n",
    "    max_tokens=100,\n",
    "    temperature=0.0,\n",
    ")"
   ]
  },
  {
   "cell_type": "code",
   "execution_count": 33,
   "id": "716a37df",
   "metadata": {},
   "outputs": [],
   "source": [
    "parsed, unparsed = BatchJob.parse_from_file(  \n",
    "    file_path=data_path+\"full_coha_classified_oct30.jsonl\", response_model=Category\n",
    ")"
   ]
  },
  {
   "cell_type": "code",
   "execution_count": 34,
   "id": "3e00e5ef",
   "metadata": {},
   "outputs": [],
   "source": [
    "df['Question1'] = [x.Question1 for x in parsed]\n",
    "df['Question2'] = [x.Question2 for x in parsed]"
   ]
  },
  {
   "cell_type": "code",
   "execution_count": 41,
   "id": "564ef469",
   "metadata": {},
   "outputs": [],
   "source": [
    "# correct the labels\n",
    "# df.loc[df['Question1']=='Friendship', 'Question1'] = 'Personal'\n",
    "# df.loc[df['Question1']=='Household', 'Question1'] = 'Personal'"
   ]
  },
  {
   "cell_type": "code",
   "execution_count": 42,
   "id": "3ca2dc41",
   "metadata": {},
   "outputs": [
    {
     "data": {
      "text/plain": [
       "Question1\n",
       "Business and Professional    31337\n",
       "Others                        5147\n",
       "Personal                      1401\n",
       "Name: count, dtype: int64"
      ]
     },
     "execution_count": 42,
     "metadata": {},
     "output_type": "execute_result"
    }
   ],
   "source": [
    "df['Question1'].value_counts()"
   ]
  },
  {
   "cell_type": "code",
   "execution_count": 35,
   "id": "676dfd40",
   "metadata": {},
   "outputs": [
    {
     "data": {
      "text/plain": [
       "Question2\n",
       "Business Operations                   29398\n",
       "Others                                 6098\n",
       "Financials                             1150\n",
       "Household                               330\n",
       "Emotion and subjective experiences      291\n",
       "Family                                  215\n",
       "Human body                              206\n",
       "Time                                     89\n",
       "Romantic relationships                   83\n",
       "Friendship                               25\n",
       "Name: count, dtype: int64"
      ]
     },
     "execution_count": 35,
     "metadata": {},
     "output_type": "execute_result"
    }
   ],
   "source": [
    "df['Question2'].value_counts()"
   ]
  },
  {
   "cell_type": "code",
   "execution_count": 54,
   "id": "419de8c1",
   "metadata": {},
   "outputs": [
    {
     "name": "stdout",
     "output_type": "stream",
     "text": [
      "773847\n",
      "care of the sick horse the horse is the most healthful of farm animals when given his freedom and properly [TGT] managed [TGT] . \n",
      "Others\n",
      "Human body\n",
      "\n",
      "303485\n",
      "infants , said dr. rice , may recover and general health may improve under proper [TGT] management [TGT] , although a residual pneumonic process may persist indefinitely . \n",
      "Others\n",
      "Human body\n",
      "\n",
      "780151\n",
      "abel had been losing [TGT] management [TGT] of his eyes ; however , he seemed to be satisfied that his brother was better off than he had been . \n",
      "Others\n",
      "Human body\n",
      "\n",
      "774256\n",
      "emphasizes that in the army prompt diagnosis and brief psychotherapy in the early stage of the illness were essential to proper [TGT] management [TGT] of functional gastrointestinal disorders @ @ @ @ @ @ @ @ @ @ manifestation , differentiation between peptic ulcer and functional distress was essential . \n",
      "Others\n",
      "Human body\n",
      "\n",
      "774319\n",
      "when health is seen as the opposite of dis-ease , when human behavior is understood as symptomatic of underlying needs , when developmental tasks of each age group are understood , then experiences offered to youth will always be geared toward development into intellectual , social and emotional maturity symbolized by a body efficiently [TGT] managed [TGT] and thoroughly understood . ' \n",
      "Others\n",
      "Human body\n",
      "\n",
      "774259\n",
      "in eight out of ten cases , with proper medical [TGT] management [TGT] , the epileptic can live a normal and useful life . \n",
      "Others\n",
      "Human body\n",
      "\n",
      "10324\n",
      "in the bathroom he threw cold water gingerly at his face with his fingertips and rinsed his mouth with blanche 's listerine until his tongue shrank to more [TGT] manageable [TGT] proportions . \n",
      "Others\n",
      "Human body\n",
      "\n",
      "491615\n",
      "the obstetrician delivers us , the pediatrician secs us through childhood , the orthopedic surgeon sets our broken bones , and the gastroenterologist [TGT] manages [TGT] our nervous inwards . \n",
      "Others\n",
      "Human body\n",
      "\n",
      "490741\n",
      "the banana also has a strong supporting role in the [TGT] management [TGT] of diabetes . \n",
      "Others\n",
      "Human body\n",
      "\n",
      "491498\n",
      "a minor infection such as a cold could precipitate a crisis and require hospitalization and careful medical [TGT] management [TGT] . \n",
      "Others\n",
      "Human body\n",
      "\n",
      "491498\n",
      "he had been [TGT] managed [TGT] fairly successfully for several years on a program of desoxycorticosterone acetate pellets of 150 mg. implanted every three months and cortisone in doses of 25 mg. daily orally . \n",
      "Others\n",
      "Human body\n",
      "\n",
      "10610\n",
      "in time he 'd dispense with voluntary motion and the natural [TGT] management [TGT] of his body . \n",
      "Others\n",
      "Human body\n",
      "\n",
      "316461\n",
      "most people would rather submit to an operation that promises to cure them quickly , even at the risk of death , than put up with medical [TGT] management [TGT] . \n",
      "Others\n",
      "Human body\n",
      "\n",
      "10728\n",
      "my hair got bushy and [TGT] unmanageable [TGT] when the humidity was high ; i yanked it back from my face and bundled it into a knot at the back of my neck @ @ @ @ @ @ @ @ @ @ afternoon , running shirley ragged with orders . \n",
      "Others\n",
      "Human body\n",
      "\n",
      "298032\n",
      "he inquires of a girl he 's trying to impress ) , a headmaster who encourages a student 's underground traffic in exotic pastry because he has an [TGT] unmanageable [TGT] sweet tooth , a ten-year-old sister , precociously wise in the ways of the world , who gives gregory such good advice as he gets on how to conduct his life . \n",
      "Others\n",
      "Human body\n",
      "\n",
      "491548\n",
      "a university of california at san francisco research group have now come up with a medical regime for the [TGT] management [TGT] of the low-hdl high -- ldl victim . \n",
      "Others\n",
      "Human body\n",
      "\n",
      "53087\n",
      "when he finally [TGT] managed [TGT] a breath , he gasped , very good , jose . \n",
      "Others\n",
      "Human body\n",
      "\n",
      "397163\n",
      "despite what you read or hear or see or are told , aids is not a [TGT] manageable [TGT] disease . \n",
      "Others\n",
      "Human body\n",
      "\n",
      "427603\n",
      "doctors are starting to consider hiv a chronic , [TGT] manageable [TGT] disease rather than a death sentence . \n",
      "Others\n",
      "Human body\n",
      "\n",
      "774048\n",
      "lem has also shown promise in [TGT] managing [TGT] liver disease and improving liver function . \n",
      "Others\n",
      "Human body\n",
      "\n",
      "746873\n",
      "we tested electrical spinal-cord stimulation for the [TGT] management [TGT] of chronic neuropathic pain . \n",
      "Others\n",
      "Human body\n",
      "\n",
      "409294\n",
      "this armor limits the penguins ' potential for physiological [TGT] management [TGT] of heat stress . \n",
      "Others\n",
      "Human body\n",
      "\n",
      "773869\n",
      "in the mid-183os he published the young mother ; or [TGT] management [TGT] of children in regard to health.68 the volume met an eager readership . \n",
      "Others\n",
      "Human body\n",
      "\n",
      "773869\n",
      "physiology was important to men as well , and its definition sounded familiar : all such knowledge as pertains to the physical education and [TGT] management [TGT] of human beings . \n",
      "Others\n",
      "Human body\n",
      "\n",
      "399806\n",
      "the good news is that most sprains can be [TGT] managed [TGT] in the field . \n",
      "Others\n",
      "Human body\n",
      "\n",
      "399806\n",
      "to reduce pain and swelling , all ankle injuries should initially be [TGT] managed [TGT] with rice : rest the injury ; in other words , make the person get off his feet . \n",
      "Others\n",
      "Human body\n",
      "\n",
      "395611\n",
      "[TGT] managing [TGT] asthma according to malveaux , the high asthma death rate among african-americans may be a result of people with asthma , as well as physicians , taking the disease @ @ @ @ @ @ @ @ @ @ blacks , especially poor blacks , may not be able to seek treatment until they are in a crisis state and have to go to the emergency room . \n",
      "Others\n",
      "Human body\n",
      "\n",
      "385196\n",
      "many of my seminars focus on internal cleansing and bowel [TGT] management [TGT] , and i am repeatedly asked the same question : how do i know if i need to cleanse ? \n",
      "Others\n",
      "Human body\n",
      "\n",
      "746917\n",
      "airway [TGT] management [TGT] was based on clinical severity and ranged from monitored observation , with or without nasopharyngeal stenting , to prolonged intubation or emergent tonsilloadenoidectomy . \n",
      "Others\n",
      "Human body\n",
      "\n",
      "746917\n",
      "2 in our series , with the exception of the case report and emergent t & a , ; all patients treated aggressively with nonsurgical [TGT] management [TGT] significantly responded within 12 to 36 hours of initiation of their treatment . \n",
      "Others\n",
      "Human body\n",
      "\n",
      "398896\n",
      "i was ready to wave him off , until he cited chapter and verse on the studies that show how light of a certain amplitude can [TGT] manage [TGT] melatonin levels -- shutting it down in the morning , so it can build up better in the evening . \n",
      "Others\n",
      "Human body\n",
      "\n",
      "410084\n",
      "but while diabetes is prevalent and serious , dr. james r. gavin iii , chair the african american program of the american diabetes association , say it is also one of the most preventable and [TGT] manageable [TGT] chronic diseases . \n",
      "Others\n",
      "Human body\n",
      "\n",
      "410084\n",
      "union hope baptist church-dallas , texas participates in america 's walk for diabetes and diabetes seminars on [TGT] management [TGT] , coping and nutrition issues . \n",
      "Others\n",
      "Human body\n",
      "\n",
      "402470\n",
      "author affiliation in this month 's special section ( page 109 ) , t & c ; contributing editor diane guernsey tackles the topic of weight [TGT] management [TGT] . \n",
      "Others\n",
      "Human body\n",
      "\n",
      "410195\n",
      "in fact , when you were asked to name the single greatest benefit of exercise , feeling better mentally and emotionally won out ( 25 percent of the vote ) over looking better ( 12 percent ) and weight [TGT] management [TGT] ( 9 percent ) . \n",
      "Others\n",
      "Human body\n",
      "\n",
      "367003\n",
      "but the shots can not begin to mimic the body 's own minute-by-minute [TGT] micromanagement [TGT] of testosterone levels . \n",
      "Others\n",
      "Human body\n",
      "\n",
      "414105\n",
      "as chronic diseases take years , even decades , to develop , it is understandable that their [TGT] management [TGT] would be less susceptible to the so-called hand grenade approach to treatment . \n",
      "Others\n",
      "Human body\n",
      "\n",
      "414105\n",
      "in light of this , a healthcare trend has taken hold in which individuals are increasingly assuming greater personal responsibility for their own health to hold disease at bay by nutritional and lifestyle strategies.1 nutritional intervention rests on the premise that long-term preventive measures are better suited to the [TGT] management [TGT] of chronic diseases than an all-or-none approach inherent in the so-called magic bullet model . \n",
      "Others\n",
      "Human body\n",
      "\n",
      "414105\n",
      "systemic enzymes function at three different levels to help [TGT] manage [TGT] age-related transitions insofar as human health and disease are concerned . \n",
      "Others\n",
      "Human body\n",
      "\n",
      "775814\n",
      "// things began to go astray when the temporary [TGT] management [TGT] of menopausal symptoms became transformed into a belief that ovarian failure was itself a treatable risk factor for other dread conditions , just as elevated cholesterol or blood pressure was . \n",
      "Others\n",
      "Human body\n",
      "\n",
      "775814\n",
      "// the @ @ @ @ @ @ @ @ @ @ only for the [TGT] management [TGT] of menopausal symptoms such as hot flashes and insomnia , as well as for preventing age-related loss of bone mass-the only outcomes for which the company had submitted clinical outcome data . \n",
      "Others\n",
      "Human body\n",
      "\n",
      "604815\n",
      "cancer is no longer the death sentence it used to be , and longer survival rates and better ways to [TGT] manage [TGT] the side effects of treatment mean more people like andrews are staying in the workforce during treatment . \n",
      "Others\n",
      "Human body\n",
      "\n",
      "12367\n",
      "song : natural moves ( intro : ) this is the @ @ @ @ @ @ @ @ @ @ 's nobody here with the expertise to judge your rhythm , your reason or your rhyme so if people try to tell you ( spoken ) buddy , the way you 're flopping about the floor you ocnvey the distinct impression of having been created with two oversized , misdirected , poorly [TGT] managed [TGT] , sad , left feet ! \n",
      "Others\n",
      "Human body\n",
      "\n",
      "403458\n",
      "actively [TGT] managing [TGT] the acid-alkaline balance in the body may help urinary condition sufferers reduce the severity and frequency of their symptoms . \n",
      "Others\n",
      "Human body\n",
      "\n",
      "640226\n",
      "the heuga center , which marks its 20th anniversary this year , teaches ms patients to [TGT] manage [TGT] their disease with exercise , a revolutionary approach when heuga pioneered it two decades ago . \n",
      "Others\n",
      "Human body\n",
      "\n",
      "393144\n",
      "the use of leeches to [TGT] manage [TGT] localized pain dates back to ancient times . \n",
      "Others\n",
      "Human body\n",
      "\n",
      "418145\n",
      "a generally children can [TGT] manage [TGT] increasingly chunky foods near the end of their first year . \n",
      "Others\n",
      "Human body\n",
      "\n",
      "36909\n",
      "give him something to [TGT] manage [TGT] the pain , and let him rest , she said . \n",
      "Others\n",
      "Human body\n",
      "\n",
      "402345\n",
      "whereas psychogenic and biogenic ed is best [TGT] managed [TGT] under competent clinical supervision , nutritive intervention in enhancing circulation is potentially a preferable regimen , if only to obviate the side effects associated with pharmaceuticals . \n",
      "Others\n",
      "Human body\n",
      "\n",
      "416329\n",
      "[TGT] managing [TGT] the disease , following a daily action plan and taking the prescribed medications , whether you feel ill or not , are all methods to survive and even thrive with the disease , says dr. lenoir . \n",
      "Others\n",
      "Human body\n",
      "\n",
      "627713\n",
      "events scheduled include the following : deepa vasudevan will discuss battle of the bulge : weight [TGT] management [TGT] on tuesday , march 20 , from noon-1 p.m . \n",
      "Others\n",
      "Human body\n",
      "\n",
      "398763\n",
      "the good news is that most urological conditions can be treated or [TGT] managed [TGT] if medical attention is sought @ @ @ @ @ @ @ @ @ @ , a urologist photograph // in atlanta and chairwoman for the urology section of the national medical association . \n",
      "Others\n",
      "Human body\n",
      "\n",
      "403461\n",
      "hiv positive people are recognizing that the destructive lifestyle factors leading to their diagnosis can be changed to prevent further re-infection and that lifestyle therapies can greatly improve their health condition and help keep them symptom @ @ @ @ @ @ @ @ @ @ caught early and lifestyle and nutritional healing measures are embraced , hiv infection can be effectively [TGT] managed [TGT] and the patient can live a full , productive life . \n",
      "Others\n",
      "Human body\n",
      "\n",
      "374985\n",
      "but with diets such as atkins and the zone reinforcing the idea that carbohydrates are the main stumbling block to weight [TGT] management [TGT] , low-carb bars are crowding the racks near the registers at supermarkets , pharmacies and health-food stores . \n",
      "Others\n",
      "Human body\n",
      "\n",
      "417637\n",
      "there are a number of herbal and nutritional alternatives proposed for [TGT] management [TGT] of symptoms and reduction of health risks among menopausal women and the group of phytoestrogens called isoflavones are promising compounds . \n",
      "Others\n",
      "Human body\n",
      "\n",
      "380392\n",
      "experts hope the user-friendly alternative to injections will get more diabetics to use insulin to help [TGT] manage [TGT] blood sugar and prevent complications . \n",
      "Others\n",
      "Human body\n",
      "\n",
      "746649\n",
      "if they could [TGT] manage [TGT] his disability then they would n't need the police . \n",
      "Others\n",
      "Human body\n",
      "\n",
      "661928\n",
      "those who believe in the laser say it can profoundly relieve otherwise [TGT] unmanageable [TGT] angina @ @ @ @ @ @ @ @ @ @ clearly often do - some wonder if the laser is simply an expensive placebo , a surgical version of the sugar pill . \n",
      "Others\n",
      "Human body\n",
      "\n",
      "28350\n",
      "or maybe it 's just that at five nine i loom over her and my hair , [TGT] unmanageable [TGT] at the best of times , has been steadily swelling in the moist bosco air and acquired red highlights from the copper pipes . \n",
      "Others\n",
      "Human body\n",
      "\n"
     ]
    }
   ],
   "source": [
    "sampled = df[(df['Question1']=='Others') & (df['Question2']=='Human body')]\n",
    "for i in range(len(sampled)):\n",
    "    print(sampled['id'].iloc[i])\n",
    "    print(sampled['tgt_tagged'].iloc[i])\n",
    "    print(sampled['Question1'].iloc[i])\n",
    "    print(sampled['Question2'].iloc[i])\n",
    "    print(\"\")"
   ]
  },
  {
   "cell_type": "code",
   "execution_count": 42,
   "id": "50bd1417",
   "metadata": {},
   "outputs": [
    {
     "name": "stdout",
     "output_type": "stream",
     "text": [
      "why not invite your daughter to cooperate with you in [TGT] managing [TGT] your home as her firm runs its business ? \n",
      "No\n",
      "Household\n",
      "-----------------\n",
      "why not induce her to help you apply business methods to home [TGT] manage-ment [TGT] ? \n",
      "No\n",
      "Household\n",
      "-----------------\n",
      "this is not so simple as applying her newly acquired business experience to the [TGT] management [TGT] of your household , but you will accomplish it more easily if you will start with the firm conviction that you still exert a strong influence over your daughter 's viewpoint on moral and social questions . \n",
      "No\n",
      "Household\n",
      "-----------------\n",
      "or , if one is a woman , one determines to marry prince charming ; he 'll be richer than rockefeller , wittier than oscar wilde , smarter than count d'orsay @ @ @ @ @ @ @ @ @ @ one [TGT] manages [TGT] very well with a comfortable house , a husband who in the winter sends one to palm beach with the children , and buys new cerise curtains for one 's bedroom . \n",
      "No\n",
      "Household\n",
      "-----------------\n",
      "ranged , but they now have a charming house which harold [TGT] manages [TGT] , and margaret works as she did before they were married . \n",
      "No\n",
      "Household\n",
      "-----------------\n",
      "-- lorenzo , i commit into your handsthe husbandry and [TGT] manage [TGT] of my houseuntil my lord 's return : for mine own part , i have toward heaven breath 'd a secret vowto live in prayer and contemplation , only attended by nerissa here , until her husband and my lord 's return : there is a monastery two miles off ; and there we will abide . \n",
      "No\n",
      "Household\n",
      "-----------------\n",
      "he relied on trudy to mend his clothes and make his neckties , keep house and [TGT] manage [TGT] with a laundress a half day a week , yet always be as well dressed and pretty as when she had slacked in the office and boarded without cares at mary 's house . \n",
      "No\n",
      "Household\n",
      "-----------------\n",
      "anything at all that is non-social , that requires no direction of human lives , no home [TGT] management [TGT] , no philosophy ? \n",
      "No\n",
      "Household\n",
      "-----------------\n",
      "it will be well for the home [TGT] manager [TGT] to know her laundry well , to insist upon money value for loss , to acc.pt no one else 's sheets , for her own and to demand a fair price , or let the old-time laundries compete . \n",
      "No\n",
      "Household\n",
      "-----------------\n",
      "the home , its care and [TGT] management [TGT] this group of studies is especially interesting to the high school or college girl . \n",
      "No\n",
      "Household\n",
      "-----------------\n"
     ]
    }
   ],
   "source": [
    "sampled = df[df['Question2']=='Household']\n",
    "for i in range(10):\n",
    "    print(sampled['tgt_tagged'].iloc[i])\n",
    "    print(sampled['Question1'].iloc[i])\n",
    "    print(sampled['Question2'].iloc[i])\n",
    "    print('-----------------')"
   ]
  },
  {
   "cell_type": "code",
   "execution_count": 55,
   "id": "118f1fd7",
   "metadata": {},
   "outputs": [],
   "source": [
    "df.to_pickle(data_path+'coha_mgmt_sent_chatgpt_tagged_oct30.pkl')"
   ]
  },
  {
   "cell_type": "code",
   "execution_count": 1,
   "id": "2c012661",
   "metadata": {},
   "outputs": [],
   "source": [
    "# I accidentally overwrite the file, so I need to extract the parsed data again\n",
    "# open jsonl file\n",
    "def sents_from_json(file_path):\n",
    "    sentences = []\n",
    "    with open(file_path, \"r\") as f:\n",
    "        lines = f.readlines()\n",
    "        for line in lines:\n",
    "            sentences.append(json.loads(line)['body']['messages'][1]['content'])\n",
    "    return sentences"
   ]
  },
  {
   "cell_type": "code",
   "execution_count": 19,
   "id": "1a2d5c81",
   "metadata": {},
   "outputs": [],
   "source": [
    "data_path = '/zfs/projects/faculty/amirgo-management/COHA_data/processed_data/'\n",
    "parsed, unparsed = BatchJob.parse_from_file(  \n",
    "    file_path=data_path+\"full_coha_classified_oct30.jsonl\", response_model=Category\n",
    ")\n",
    "mgmt_sents = sents_from_json(data_path+\"full_coha_oct30.jsonl\")\n",
    "df = pd.DataFrame({'tgt_tagged': mgmt_sents})\n",
    "df['Question1'] = [x.Question1 for x in parsed]\n",
    "df['Question2'] = [x.Question2 for x in parsed]"
   ]
  },
  {
   "cell_type": "code",
   "execution_count": 16,
   "id": "24022071",
   "metadata": {},
   "outputs": [],
   "source": [
    "# correct the labels\n",
    "# df.loc[df['Question1']=='Friendship', 'Question1'] = 'Personal'\n",
    "# df.loc[df['Question1']=='Household', 'Question1'] = 'Personal'"
   ]
  },
  {
   "cell_type": "code",
   "execution_count": 20,
   "id": "98bef4a4",
   "metadata": {},
   "outputs": [],
   "source": [
    "df.to_pickle(data_path+'coha_mgmt_sent_chatgpt_tagged_oct30.pkl')"
   ]
  }
 ],
 "metadata": {
  "kernelspec": {
   "display_name": ".venv",
   "language": "python",
   "name": "python3"
  },
  "language_info": {
   "codemirror_mode": {
    "name": "ipython",
    "version": 3
   },
   "file_extension": ".py",
   "mimetype": "text/x-python",
   "name": "python",
   "nbconvert_exporter": "python",
   "pygments_lexer": "ipython3",
   "version": "3.10.12"
  }
 },
 "nbformat": 4,
 "nbformat_minor": 5
}
